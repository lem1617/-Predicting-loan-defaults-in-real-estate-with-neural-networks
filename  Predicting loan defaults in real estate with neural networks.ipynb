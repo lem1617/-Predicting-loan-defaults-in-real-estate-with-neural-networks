{
 "cells": [
  {
   "cell_type": "markdown",
   "id": "bd915583",
   "metadata": {
    "id": "a2V35aJRvaDt"
   },
   "source": [
    "# Predicting loan defaults in real estate with neural networks"
   ]
  },
  {
   "cell_type": "markdown",
   "id": "88ddb928",
   "metadata": {
    "id": "kxlPgmEyvaDv"
   },
   "source": [
    "## Table of Contents\n",
    "### <b> <a href='#chapter1'> 1. Data visualization</a>\n",
    "### <b> <a href='#chapter1'> 2. Data preprocessing</a>\n",
    "### <b> <a href='#chapter1'> 3. Splitting the data set</a>\n",
    "### <b> <a href='#chapter1'> 4. Prediction with Neural Networks</a>\n",
    "### <b> <a href='#chapter1'> 5. Prediction with logistic regression</a>\n",
    "### <b> <a href='#chapter1'> 6. Prediction with Random Forest </a>\n",
    "### <b> <a href='#chapter1'> 7. ROC-Curve </a>"
   ]
  },
  {
   "cell_type": "markdown",
   "id": "11802a86",
   "metadata": {
    "id": "2nyrKdAsvaDw"
   },
   "source": [
    "## 1. Data visualization"
   ]
  },
  {
   "cell_type": "code",
   "execution_count": 1,
   "id": "Pd-qQaLWvaDw",
   "metadata": {
    "id": "Pd-qQaLWvaDw"
   },
   "outputs": [],
   "source": [
    "# Import the library\n",
    "\n",
    "import numpy as np\n",
    "import matplotlib.pyplot as plt\n",
    "import pandas as pd\n",
    "import itertools"
   ]
  },
  {
   "cell_type": "code",
   "execution_count": 2,
   "id": "niioAHFYvaDw",
   "metadata": {
    "colab": {
     "base_uri": "https://localhost:8080/",
     "height": 488
    },
    "id": "niioAHFYvaDw",
    "outputId": "f3aaab75-fec8-4218-b91f-5181bc5e6602",
    "scrolled": false
   },
   "outputs": [
    {
     "data": {
      "text/html": [
       "<div>\n",
       "<style scoped>\n",
       "    .dataframe tbody tr th:only-of-type {\n",
       "        vertical-align: middle;\n",
       "    }\n",
       "\n",
       "    .dataframe tbody tr th {\n",
       "        vertical-align: top;\n",
       "    }\n",
       "\n",
       "    .dataframe thead th {\n",
       "        text-align: right;\n",
       "    }\n",
       "</style>\n",
       "<table border=\"1\" class=\"dataframe\">\n",
       "  <thead>\n",
       "    <tr style=\"text-align: right;\">\n",
       "      <th></th>\n",
       "      <th>BAD</th>\n",
       "      <th>LOAN</th>\n",
       "      <th>MORTDUE</th>\n",
       "      <th>VALUE</th>\n",
       "      <th>REASON</th>\n",
       "      <th>JOB</th>\n",
       "      <th>YOJ</th>\n",
       "      <th>DEROG</th>\n",
       "      <th>DELINQ</th>\n",
       "      <th>CLAGE</th>\n",
       "      <th>NINQ</th>\n",
       "      <th>CLNO</th>\n",
       "      <th>DEBTINC</th>\n",
       "    </tr>\n",
       "  </thead>\n",
       "  <tbody>\n",
       "    <tr>\n",
       "      <th>0</th>\n",
       "      <td>1</td>\n",
       "      <td>1100</td>\n",
       "      <td>25860.0</td>\n",
       "      <td>39025.0</td>\n",
       "      <td>HomeImp</td>\n",
       "      <td>Other</td>\n",
       "      <td>10.5</td>\n",
       "      <td>0.0</td>\n",
       "      <td>0.0</td>\n",
       "      <td>94.366667</td>\n",
       "      <td>1.0</td>\n",
       "      <td>9.0</td>\n",
       "      <td>NaN</td>\n",
       "    </tr>\n",
       "    <tr>\n",
       "      <th>1</th>\n",
       "      <td>1</td>\n",
       "      <td>1300</td>\n",
       "      <td>70053.0</td>\n",
       "      <td>68400.0</td>\n",
       "      <td>HomeImp</td>\n",
       "      <td>Other</td>\n",
       "      <td>7.0</td>\n",
       "      <td>0.0</td>\n",
       "      <td>2.0</td>\n",
       "      <td>121.833333</td>\n",
       "      <td>0.0</td>\n",
       "      <td>14.0</td>\n",
       "      <td>NaN</td>\n",
       "    </tr>\n",
       "    <tr>\n",
       "      <th>2</th>\n",
       "      <td>1</td>\n",
       "      <td>1500</td>\n",
       "      <td>13500.0</td>\n",
       "      <td>16700.0</td>\n",
       "      <td>HomeImp</td>\n",
       "      <td>Other</td>\n",
       "      <td>4.0</td>\n",
       "      <td>0.0</td>\n",
       "      <td>0.0</td>\n",
       "      <td>149.466667</td>\n",
       "      <td>1.0</td>\n",
       "      <td>10.0</td>\n",
       "      <td>NaN</td>\n",
       "    </tr>\n",
       "    <tr>\n",
       "      <th>3</th>\n",
       "      <td>1</td>\n",
       "      <td>1500</td>\n",
       "      <td>NaN</td>\n",
       "      <td>NaN</td>\n",
       "      <td>NaN</td>\n",
       "      <td>NaN</td>\n",
       "      <td>NaN</td>\n",
       "      <td>NaN</td>\n",
       "      <td>NaN</td>\n",
       "      <td>NaN</td>\n",
       "      <td>NaN</td>\n",
       "      <td>NaN</td>\n",
       "      <td>NaN</td>\n",
       "    </tr>\n",
       "    <tr>\n",
       "      <th>4</th>\n",
       "      <td>0</td>\n",
       "      <td>1700</td>\n",
       "      <td>97800.0</td>\n",
       "      <td>112000.0</td>\n",
       "      <td>HomeImp</td>\n",
       "      <td>Office</td>\n",
       "      <td>3.0</td>\n",
       "      <td>0.0</td>\n",
       "      <td>0.0</td>\n",
       "      <td>93.333333</td>\n",
       "      <td>0.0</td>\n",
       "      <td>14.0</td>\n",
       "      <td>NaN</td>\n",
       "    </tr>\n",
       "    <tr>\n",
       "      <th>...</th>\n",
       "      <td>...</td>\n",
       "      <td>...</td>\n",
       "      <td>...</td>\n",
       "      <td>...</td>\n",
       "      <td>...</td>\n",
       "      <td>...</td>\n",
       "      <td>...</td>\n",
       "      <td>...</td>\n",
       "      <td>...</td>\n",
       "      <td>...</td>\n",
       "      <td>...</td>\n",
       "      <td>...</td>\n",
       "      <td>...</td>\n",
       "    </tr>\n",
       "    <tr>\n",
       "      <th>5955</th>\n",
       "      <td>0</td>\n",
       "      <td>88900</td>\n",
       "      <td>57264.0</td>\n",
       "      <td>90185.0</td>\n",
       "      <td>DebtCon</td>\n",
       "      <td>Other</td>\n",
       "      <td>16.0</td>\n",
       "      <td>0.0</td>\n",
       "      <td>0.0</td>\n",
       "      <td>221.808718</td>\n",
       "      <td>0.0</td>\n",
       "      <td>16.0</td>\n",
       "      <td>36.112347</td>\n",
       "    </tr>\n",
       "    <tr>\n",
       "      <th>5956</th>\n",
       "      <td>0</td>\n",
       "      <td>89000</td>\n",
       "      <td>54576.0</td>\n",
       "      <td>92937.0</td>\n",
       "      <td>DebtCon</td>\n",
       "      <td>Other</td>\n",
       "      <td>16.0</td>\n",
       "      <td>0.0</td>\n",
       "      <td>0.0</td>\n",
       "      <td>208.692070</td>\n",
       "      <td>0.0</td>\n",
       "      <td>15.0</td>\n",
       "      <td>35.859971</td>\n",
       "    </tr>\n",
       "    <tr>\n",
       "      <th>5957</th>\n",
       "      <td>0</td>\n",
       "      <td>89200</td>\n",
       "      <td>54045.0</td>\n",
       "      <td>92924.0</td>\n",
       "      <td>DebtCon</td>\n",
       "      <td>Other</td>\n",
       "      <td>15.0</td>\n",
       "      <td>0.0</td>\n",
       "      <td>0.0</td>\n",
       "      <td>212.279697</td>\n",
       "      <td>0.0</td>\n",
       "      <td>15.0</td>\n",
       "      <td>35.556590</td>\n",
       "    </tr>\n",
       "    <tr>\n",
       "      <th>5958</th>\n",
       "      <td>0</td>\n",
       "      <td>89800</td>\n",
       "      <td>50370.0</td>\n",
       "      <td>91861.0</td>\n",
       "      <td>DebtCon</td>\n",
       "      <td>Other</td>\n",
       "      <td>14.0</td>\n",
       "      <td>0.0</td>\n",
       "      <td>0.0</td>\n",
       "      <td>213.892709</td>\n",
       "      <td>0.0</td>\n",
       "      <td>16.0</td>\n",
       "      <td>34.340882</td>\n",
       "    </tr>\n",
       "    <tr>\n",
       "      <th>5959</th>\n",
       "      <td>0</td>\n",
       "      <td>89900</td>\n",
       "      <td>48811.0</td>\n",
       "      <td>88934.0</td>\n",
       "      <td>DebtCon</td>\n",
       "      <td>Other</td>\n",
       "      <td>15.0</td>\n",
       "      <td>0.0</td>\n",
       "      <td>0.0</td>\n",
       "      <td>219.601002</td>\n",
       "      <td>0.0</td>\n",
       "      <td>16.0</td>\n",
       "      <td>34.571519</td>\n",
       "    </tr>\n",
       "  </tbody>\n",
       "</table>\n",
       "<p>5960 rows × 13 columns</p>\n",
       "</div>"
      ],
      "text/plain": [
       "      BAD   LOAN  MORTDUE     VALUE   REASON     JOB   YOJ  DEROG  DELINQ  \\\n",
       "0       1   1100  25860.0   39025.0  HomeImp   Other  10.5    0.0     0.0   \n",
       "1       1   1300  70053.0   68400.0  HomeImp   Other   7.0    0.0     2.0   \n",
       "2       1   1500  13500.0   16700.0  HomeImp   Other   4.0    0.0     0.0   \n",
       "3       1   1500      NaN       NaN      NaN     NaN   NaN    NaN     NaN   \n",
       "4       0   1700  97800.0  112000.0  HomeImp  Office   3.0    0.0     0.0   \n",
       "...   ...    ...      ...       ...      ...     ...   ...    ...     ...   \n",
       "5955    0  88900  57264.0   90185.0  DebtCon   Other  16.0    0.0     0.0   \n",
       "5956    0  89000  54576.0   92937.0  DebtCon   Other  16.0    0.0     0.0   \n",
       "5957    0  89200  54045.0   92924.0  DebtCon   Other  15.0    0.0     0.0   \n",
       "5958    0  89800  50370.0   91861.0  DebtCon   Other  14.0    0.0     0.0   \n",
       "5959    0  89900  48811.0   88934.0  DebtCon   Other  15.0    0.0     0.0   \n",
       "\n",
       "           CLAGE  NINQ  CLNO    DEBTINC  \n",
       "0      94.366667   1.0   9.0        NaN  \n",
       "1     121.833333   0.0  14.0        NaN  \n",
       "2     149.466667   1.0  10.0        NaN  \n",
       "3            NaN   NaN   NaN        NaN  \n",
       "4      93.333333   0.0  14.0        NaN  \n",
       "...          ...   ...   ...        ...  \n",
       "5955  221.808718   0.0  16.0  36.112347  \n",
       "5956  208.692070   0.0  15.0  35.859971  \n",
       "5957  212.279697   0.0  15.0  35.556590  \n",
       "5958  213.892709   0.0  16.0  34.340882  \n",
       "5959  219.601002   0.0  16.0  34.571519  \n",
       "\n",
       "[5960 rows x 13 columns]"
      ]
     },
     "execution_count": 2,
     "metadata": {},
     "output_type": "execute_result"
    }
   ],
   "source": [
    "df = pd.read_csv('hmeq.csv')\n",
    "df"
   ]
  },
  {
   "cell_type": "code",
   "execution_count": 3,
   "id": "l5Zr18HKvaDx",
   "metadata": {
    "colab": {
     "base_uri": "https://localhost:8080/"
    },
    "id": "l5Zr18HKvaDx",
    "outputId": "23c220c9-8274-4351-de50-accd99cea4b5",
    "scrolled": true
   },
   "outputs": [
    {
     "data": {
      "text/plain": [
       "BAD          int64\n",
       "LOAN         int64\n",
       "MORTDUE    float64\n",
       "VALUE      float64\n",
       "REASON      object\n",
       "JOB         object\n",
       "YOJ        float64\n",
       "DEROG      float64\n",
       "DELINQ     float64\n",
       "CLAGE      float64\n",
       "NINQ       float64\n",
       "CLNO       float64\n",
       "DEBTINC    float64\n",
       "dtype: object"
      ]
     },
     "execution_count": 3,
     "metadata": {},
     "output_type": "execute_result"
    }
   ],
   "source": [
    "df.dtypes"
   ]
  },
  {
   "cell_type": "markdown",
   "id": "c46c962b",
   "metadata": {
    "id": "WCCi-SRavaDx"
   },
   "source": [
    "[After examining the data type we get:](udf_0)\n",
    "- Only 'REASON' and 'JOB' are the categorical features.\n",
    "- The other features are metric."
   ]
  },
  {
   "cell_type": "code",
   "execution_count": 4,
   "id": "UlvhxbPxvaDz",
   "metadata": {
    "colab": {
     "base_uri": "https://localhost:8080/"
    },
    "id": "UlvhxbPxvaDz",
    "outputId": "3d19502f-4bdf-4f1b-a7b5-e506bc4a41d7"
   },
   "outputs": [
    {
     "data": {
      "text/plain": [
       "0    4771\n",
       "1    1189\n",
       "Name: BAD, dtype: int64"
      ]
     },
     "execution_count": 4,
     "metadata": {},
     "output_type": "execute_result"
    }
   ],
   "source": [
    "df['BAD'].value_counts()"
   ]
  },
  {
   "cell_type": "code",
   "execution_count": 5,
   "id": "UcQPL8jtvaDz",
   "metadata": {
    "colab": {
     "base_uri": "https://localhost:8080/"
    },
    "id": "UcQPL8jtvaDz",
    "outputId": "cc71034e-face-4eca-92fe-6b397eb0171c"
   },
   "outputs": [
    {
     "name": "stdout",
     "output_type": "stream",
     "text": [
      "Percentage of number of high risk customers: 80.0503355704698 %\n",
      "Percentage of number of customers with low risk: 19.949664429530202 %\n"
     ]
    }
   ],
   "source": [
    "# Ratio between the number of high-risk customers and the number of low-risk customers\n",
    "print('Percentage of number of high risk customers:', 4771/5960*100,'%')\n",
    "print('Percentage of number of customers with low risk:',1189/5960*100,'%')"
   ]
  },
  {
   "cell_type": "code",
   "execution_count": 6,
   "id": "SJ-3z7D1vaD0",
   "metadata": {
    "colab": {
     "base_uri": "https://localhost:8080/",
     "height": 295
    },
    "id": "SJ-3z7D1vaD0",
    "outputId": "af4591d0-192c-4279-dba8-40dd3b78affe"
   },
   "outputs": [
    {
     "data": {
      "text/plain": [
       "<AxesSubplot:title={'center':'BAD'}>"
      ]
     },
     "execution_count": 6,
     "metadata": {},
     "output_type": "execute_result"
    },
    {
     "data": {
      "image/png": "[encoded data removed]",
      "text/plain": [
       "<Figure size 360x360 with 1 Axes>"
      ]
     },
     "metadata": {
      "needs_background": "light"
     },
     "output_type": "display_data"
    }
   ],
   "source": [
    "#Diagram BAD\n",
    "df['BAD'].value_counts().plot.bar(title ='BAD', color=['yellow','green'], figsize = (5,5)) "
   ]
  },
  {
   "cell_type": "code",
   "execution_count": 7,
   "id": "6yXXTG5XvaD0",
   "metadata": {
    "colab": {
     "base_uri": "https://localhost:8080/"
    },
    "id": "6yXXTG5XvaD0",
    "outputId": "c6079c7e-a64f-43c6-f426-8dbbd74c8f3b"
   },
   "outputs": [
    {
     "data": {
      "text/plain": [
       "DebtCon    3928\n",
       "HomeImp    1780\n",
       "Name: REASON, dtype: int64"
      ]
     },
     "execution_count": 7,
     "metadata": {},
     "output_type": "execute_result"
    }
   ],
   "source": [
    "df['REASON'].value_counts()"
   ]
  },
  {
   "cell_type": "code",
   "execution_count": 8,
   "id": "xfELVcgovaD0",
   "metadata": {
    "colab": {
     "base_uri": "https://localhost:8080/",
     "height": 336
    },
    "id": "xfELVcgovaD0",
    "outputId": "a5c06af6-f1b4-426e-801c-da9f9f06e023",
    "scrolled": true
   },
   "outputs": [
    {
     "data": {
      "text/plain": [
       "<AxesSubplot:title={'center':'REASON'}>"
      ]
     },
     "execution_count": 8,
     "metadata": {},
     "output_type": "execute_result"
    },
    {
     "data": {
      "image/png": "[encoded data removed]",
      "text/plain": [
       "<Figure size 288x288 with 1 Axes>"
      ]
     },
     "metadata": {
      "needs_background": "light"
     },
     "output_type": "display_data"
    }
   ],
   "source": [
    "#Diagramm von REASON\n",
    "df['REASON'].value_counts().plot.bar(title = 'REASON',color=['skyblue','orange'],figsize = (4,4)) "
   ]
  },
  {
   "cell_type": "code",
   "execution_count": 9,
   "id": "UYiB3gzBvaD1",
   "metadata": {
    "colab": {
     "base_uri": "https://localhost:8080/"
    },
    "id": "UYiB3gzBvaD1",
    "outputId": "f7c15950-ac3c-4c68-cd15-98c7af1f753e"
   },
   "outputs": [
    {
     "data": {
      "text/plain": [
       "Other      2388\n",
       "ProfExe    1276\n",
       "Office      948\n",
       "Mgr         767\n",
       "Self        193\n",
       "Sales       109\n",
       "Name: JOB, dtype: int64"
      ]
     },
     "execution_count": 9,
     "metadata": {},
     "output_type": "execute_result"
    }
   ],
   "source": [
    "df['JOB'].value_counts()"
   ]
  },
  {
   "cell_type": "code",
   "execution_count": 10,
   "id": "eEuSS3CsvaD1",
   "metadata": {
    "colab": {
     "base_uri": "https://localhost:8080/",
     "height": 326
    },
    "id": "eEuSS3CsvaD1",
    "outputId": "cff2f645-5209-4500-ee3a-f528064f91d9"
   },
   "outputs": [
    {
     "data": {
      "text/plain": [
       "<AxesSubplot:title={'center':'JOB'}>"
      ]
     },
     "execution_count": 10,
     "metadata": {},
     "output_type": "execute_result"
    },
    {
     "data": {
      "image/png": "[encoded data removed]",
      "text/plain": [
       "<Figure size 360x360 with 1 Axes>"
      ]
     },
     "metadata": {
      "needs_background": "light"
     },
     "output_type": "display_data"
    }
   ],
   "source": [
    "# Diagramm von JOB\n",
    "df['JOB'].value_counts().plot.bar(title = 'JOB',color=['pink','yellow','red','lightgreen','skyblue','purple'],figsize = (5,5)) "
   ]
  },
  {
   "cell_type": "code",
   "execution_count": 11,
   "id": "f4864d27",
   "metadata": {},
   "outputs": [
    {
     "data": {
      "text/plain": [
       "<AxesSubplot:title={'center':'LOAN'}, ylabel='Frequency'>"
      ]
     },
     "execution_count": 11,
     "metadata": {},
     "output_type": "execute_result"
    },
    {
     "data": {
      "image/png": "[encoded data removed]",
      "text/plain": [
       "<Figure size 288x288 with 1 Axes>"
      ]
     },
     "metadata": {
      "needs_background": "light"
     },
     "output_type": "display_data"
    }
   ],
   "source": [
    "# Diagramm von anderen Merkmalen\n",
    "df['LOAN'].plot.hist(title = 'LOAN',figsize = (4,4)) "
   ]
  },
  {
   "cell_type": "code",
   "execution_count": 12,
   "id": "1bebd4c1",
   "metadata": {},
   "outputs": [
    {
     "data": {
      "text/plain": [
       "<AxesSubplot:title={'center':'MORTDUE'}, ylabel='Frequency'>"
      ]
     },
     "execution_count": 12,
     "metadata": {},
     "output_type": "execute_result"
    },
    {
     "data": {
      "image/png": "[encoded data removed]",
      "text/plain": [
       "<Figure size 288x288 with 1 Axes>"
      ]
     },
     "metadata": {
      "needs_background": "light"
     },
     "output_type": "display_data"
    }
   ],
   "source": [
    "df['MORTDUE'].plot.hist(title = 'MORTDUE',figsize = (4,4))"
   ]
  },
  {
   "cell_type": "code",
   "execution_count": 13,
   "id": "78829abe",
   "metadata": {},
   "outputs": [
    {
     "data": {
      "text/plain": [
       "<AxesSubplot:title={'center':'VALUE'}, ylabel='Frequency'>"
      ]
     },
     "execution_count": 13,
     "metadata": {},
     "output_type": "execute_result"
    },
    {
     "data": {
      "image/png": "[encoded data removed]",
      "text/plain": [
       "<Figure size 288x288 with 1 Axes>"
      ]
     },
     "metadata": {
      "needs_background": "light"
     },
     "output_type": "display_data"
    }
   ],
   "source": [
    "df['VALUE'].plot.hist(title = 'VALUE',figsize = (4,4))"
   ]
  },
  {
   "cell_type": "code",
   "execution_count": 14,
   "id": "cd335401",
   "metadata": {},
   "outputs": [
    {
     "data": {
      "text/plain": [
       "<AxesSubplot:title={'center':'YOJ'}, ylabel='Frequency'>"
      ]
     },
     "execution_count": 14,
     "metadata": {},
     "output_type": "execute_result"
    },
    {
     "data": {
      "image/png": "[encoded data removed]",
      "text/plain": [
       "<Figure size 288x288 with 1 Axes>"
      ]
     },
     "metadata": {
      "needs_background": "light"
     },
     "output_type": "display_data"
    }
   ],
   "source": [
    "df['YOJ'].plot.hist(title = 'YOJ',figsize = (4,4))"
   ]
  },
  {
   "cell_type": "code",
   "execution_count": 15,
   "id": "0a253285",
   "metadata": {},
   "outputs": [
    {
     "data": {
      "text/plain": [
       "<AxesSubplot:title={'center':'DEROG'}, ylabel='Frequency'>"
      ]
     },
     "execution_count": 15,
     "metadata": {},
     "output_type": "execute_result"
    },
    {
     "data": {
      "image/png": "[encoded data removed]",
      "text/plain": [
       "<Figure size 288x288 with 1 Axes>"
      ]
     },
     "metadata": {
      "needs_background": "light"
     },
     "output_type": "display_data"
    }
   ],
   "source": [
    "df['DEROG'].plot.hist(title = 'DEROG',figsize = (4,4))"
   ]
  },
  {
   "cell_type": "code",
   "execution_count": 16,
   "id": "9ce9ab55",
   "metadata": {},
   "outputs": [
    {
     "data": {
      "text/plain": [
       "<AxesSubplot:title={'center':'DELINQ'}, ylabel='Frequency'>"
      ]
     },
     "execution_count": 16,
     "metadata": {},
     "output_type": "execute_result"
    },
    {
     "data": {
      "image/png": "[encoded data removed]",
      "text/plain": [
       "<Figure size 288x288 with 1 Axes>"
      ]
     },
     "metadata": {
      "needs_background": "light"
     },
     "output_type": "display_data"
    }
   ],
   "source": [
    "df['DELINQ'].plot.hist(title ='DELINQ',figsize = (4,4))"
   ]
  },
  {
   "cell_type": "code",
   "execution_count": 17,
   "id": "4c23031f",
   "metadata": {},
   "outputs": [
    {
     "data": {
      "text/plain": [
       "<AxesSubplot:title={'center':'CLAGE'}, ylabel='Frequency'>"
      ]
     },
     "execution_count": 17,
     "metadata": {},
     "output_type": "execute_result"
    },
    {
     "data": {
      "image/png": "[encoded data removed]",
      "text/plain": [
       "<Figure size 288x288 with 1 Axes>"
      ]
     },
     "metadata": {
      "needs_background": "light"
     },
     "output_type": "display_data"
    }
   ],
   "source": [
    "df['CLAGE'].plot.hist(title = 'CLAGE',figsize = (4,4))"
   ]
  },
  {
   "cell_type": "code",
   "execution_count": 18,
   "id": "4652112b",
   "metadata": {},
   "outputs": [
    {
     "data": {
      "text/plain": [
       "<AxesSubplot:title={'center':'NINQ'}, ylabel='Frequency'>"
      ]
     },
     "execution_count": 18,
     "metadata": {},
     "output_type": "execute_result"
    },
    {
     "data": {
      "image/png": "[encoded data removed]",
      "text/plain": [
       "<Figure size 288x288 with 1 Axes>"
      ]
     },
     "metadata": {
      "needs_background": "light"
     },
     "output_type": "display_data"
    }
   ],
   "source": [
    "df['NINQ'].plot.hist(title = 'NINQ',figsize = (4,4))"
   ]
  },
  {
   "cell_type": "code",
   "execution_count": 19,
   "id": "4bce1d17",
   "metadata": {},
   "outputs": [
    {
     "data": {
      "text/plain": [
       "<AxesSubplot:title={'center':'CLNO'}, ylabel='Frequency'>"
      ]
     },
     "execution_count": 19,
     "metadata": {},
     "output_type": "execute_result"
    },
    {
     "data": {
      "image/png": "[encoded data removed]",
      "text/plain": [
       "<Figure size 288x288 with 1 Axes>"
      ]
     },
     "metadata": {
      "needs_background": "light"
     },
     "output_type": "display_data"
    }
   ],
   "source": [
    "df['CLNO'].plot.hist(title = 'CLNO',figsize = (4,4))"
   ]
  },
  {
   "cell_type": "code",
   "execution_count": 20,
   "id": "3be9e515",
   "metadata": {},
   "outputs": [
    {
     "data": {
      "text/plain": [
       "<AxesSubplot:title={'center':'DEBTINC'}, ylabel='Frequency'>"
      ]
     },
     "execution_count": 20,
     "metadata": {},
     "output_type": "execute_result"
    },
    {
     "data": {
      "image/png": "[encoded data removed]",
      "text/plain": [
       "<Figure size 288x288 with 1 Axes>"
      ]
     },
     "metadata": {
      "needs_background": "light"
     },
     "output_type": "display_data"
    }
   ],
   "source": [
    "df['DEBTINC'].plot.hist(title = 'DEBTINC',figsize = (4,4))"
   ]
  },
  {
   "cell_type": "markdown",
   "id": "63b8df74",
   "metadata": {},
   "source": [
    "## 2. Datenvorverarbeitung"
   ]
  },
  {
   "cell_type": "code",
   "execution_count": 21,
   "id": "bf1cb4df",
   "metadata": {},
   "outputs": [
    {
     "data": {
      "text/plain": [
       "<AxesSubplot:>"
      ]
     },
     "execution_count": 21,
     "metadata": {},
     "output_type": "execute_result"
    },
    {
     "data": {
      "image/png": "[encoded data removed]",
      "text/plain": [
       "<Figure size 432x288 with 1 Axes>"
      ]
     },
     "metadata": {
      "needs_background": "light"
     },
     "output_type": "display_data"
    }
   ],
   "source": [
    "# Checking for missing values\n",
    "import seaborn as sns\n",
    "sns.heatmap(df.isnull(), cbar = False)"
   ]
  },
  {
   "cell_type": "code",
   "execution_count": 22,
   "id": "3136431c",
   "metadata": {},
   "outputs": [
    {
     "data": {
      "text/plain": [
       "Text(0.5, 1.0, 'Number of missing values for each variable')"
      ]
     },
     "execution_count": 22,
     "metadata": {},
     "output_type": "execute_result"
    },
    {
     "data": {
      "image/png": "[encoded data removed]",
      "text/plain": [
       "<Figure size 800x640 with 1 Axes>"
      ]
     },
     "metadata": {
      "needs_background": "light"
     },
     "output_type": "display_data"
    }
   ],
   "source": [
    "# Number of missing values for each variable\n",
    "\n",
    "df.columns\n",
    "plt.figure(figsize=(10, 8), dpi=80)\n",
    "plt.bar(df.columns,height=np.sum(df.isnull()))\n",
    "plt.ylabel(\"Number\")\n",
    "plt.title(\"Number of missing values for each variable\")"
   ]
  },
  {
   "cell_type": "code",
   "execution_count": 23,
   "id": "91a200c8",
   "metadata": {},
   "outputs": [
    {
     "data": {
      "text/html": [
       "<div>\n",
       "<style scoped>\n",
       "    .dataframe tbody tr th:only-of-type {\n",
       "        vertical-align: middle;\n",
       "    }\n",
       "\n",
       "    .dataframe tbody tr th {\n",
       "        vertical-align: top;\n",
       "    }\n",
       "\n",
       "    .dataframe thead th {\n",
       "        text-align: right;\n",
       "    }\n",
       "</style>\n",
       "<table border=\"1\" class=\"dataframe\">\n",
       "  <thead>\n",
       "    <tr style=\"text-align: right;\">\n",
       "      <th></th>\n",
       "      <th>BAD</th>\n",
       "      <th>LOAN</th>\n",
       "      <th>MORTDUE</th>\n",
       "      <th>VALUE</th>\n",
       "      <th>REASON</th>\n",
       "      <th>JOB</th>\n",
       "      <th>YOJ</th>\n",
       "      <th>DEROG</th>\n",
       "      <th>DELINQ</th>\n",
       "      <th>CLAGE</th>\n",
       "      <th>NINQ</th>\n",
       "      <th>CLNO</th>\n",
       "      <th>DEBTINC</th>\n",
       "    </tr>\n",
       "  </thead>\n",
       "  <tbody>\n",
       "    <tr>\n",
       "      <th>0</th>\n",
       "      <td>1</td>\n",
       "      <td>1100</td>\n",
       "      <td>25860.0</td>\n",
       "      <td>39025.0</td>\n",
       "      <td>HomeImp</td>\n",
       "      <td>Other</td>\n",
       "      <td>10.5</td>\n",
       "      <td>0.0</td>\n",
       "      <td>0.0</td>\n",
       "      <td>94.366667</td>\n",
       "      <td>1.0</td>\n",
       "      <td>9.0</td>\n",
       "      <td>NaN</td>\n",
       "    </tr>\n",
       "    <tr>\n",
       "      <th>1</th>\n",
       "      <td>1</td>\n",
       "      <td>1300</td>\n",
       "      <td>70053.0</td>\n",
       "      <td>68400.0</td>\n",
       "      <td>HomeImp</td>\n",
       "      <td>Other</td>\n",
       "      <td>7.0</td>\n",
       "      <td>0.0</td>\n",
       "      <td>2.0</td>\n",
       "      <td>121.833333</td>\n",
       "      <td>0.0</td>\n",
       "      <td>14.0</td>\n",
       "      <td>NaN</td>\n",
       "    </tr>\n",
       "    <tr>\n",
       "      <th>2</th>\n",
       "      <td>1</td>\n",
       "      <td>1500</td>\n",
       "      <td>13500.0</td>\n",
       "      <td>16700.0</td>\n",
       "      <td>HomeImp</td>\n",
       "      <td>Other</td>\n",
       "      <td>4.0</td>\n",
       "      <td>0.0</td>\n",
       "      <td>0.0</td>\n",
       "      <td>149.466667</td>\n",
       "      <td>1.0</td>\n",
       "      <td>10.0</td>\n",
       "      <td>NaN</td>\n",
       "    </tr>\n",
       "    <tr>\n",
       "      <th>4</th>\n",
       "      <td>0</td>\n",
       "      <td>1700</td>\n",
       "      <td>97800.0</td>\n",
       "      <td>112000.0</td>\n",
       "      <td>HomeImp</td>\n",
       "      <td>Office</td>\n",
       "      <td>3.0</td>\n",
       "      <td>0.0</td>\n",
       "      <td>0.0</td>\n",
       "      <td>93.333333</td>\n",
       "      <td>0.0</td>\n",
       "      <td>14.0</td>\n",
       "      <td>NaN</td>\n",
       "    </tr>\n",
       "    <tr>\n",
       "      <th>5</th>\n",
       "      <td>1</td>\n",
       "      <td>1700</td>\n",
       "      <td>30548.0</td>\n",
       "      <td>40320.0</td>\n",
       "      <td>HomeImp</td>\n",
       "      <td>Other</td>\n",
       "      <td>9.0</td>\n",
       "      <td>0.0</td>\n",
       "      <td>0.0</td>\n",
       "      <td>101.466002</td>\n",
       "      <td>1.0</td>\n",
       "      <td>8.0</td>\n",
       "      <td>37.113614</td>\n",
       "    </tr>\n",
       "    <tr>\n",
       "      <th>...</th>\n",
       "      <td>...</td>\n",
       "      <td>...</td>\n",
       "      <td>...</td>\n",
       "      <td>...</td>\n",
       "      <td>...</td>\n",
       "      <td>...</td>\n",
       "      <td>...</td>\n",
       "      <td>...</td>\n",
       "      <td>...</td>\n",
       "      <td>...</td>\n",
       "      <td>...</td>\n",
       "      <td>...</td>\n",
       "      <td>...</td>\n",
       "    </tr>\n",
       "    <tr>\n",
       "      <th>5955</th>\n",
       "      <td>0</td>\n",
       "      <td>88900</td>\n",
       "      <td>57264.0</td>\n",
       "      <td>90185.0</td>\n",
       "      <td>DebtCon</td>\n",
       "      <td>Other</td>\n",
       "      <td>16.0</td>\n",
       "      <td>0.0</td>\n",
       "      <td>0.0</td>\n",
       "      <td>221.808718</td>\n",
       "      <td>0.0</td>\n",
       "      <td>16.0</td>\n",
       "      <td>36.112347</td>\n",
       "    </tr>\n",
       "    <tr>\n",
       "      <th>5956</th>\n",
       "      <td>0</td>\n",
       "      <td>89000</td>\n",
       "      <td>54576.0</td>\n",
       "      <td>92937.0</td>\n",
       "      <td>DebtCon</td>\n",
       "      <td>Other</td>\n",
       "      <td>16.0</td>\n",
       "      <td>0.0</td>\n",
       "      <td>0.0</td>\n",
       "      <td>208.692070</td>\n",
       "      <td>0.0</td>\n",
       "      <td>15.0</td>\n",
       "      <td>35.859971</td>\n",
       "    </tr>\n",
       "    <tr>\n",
       "      <th>5957</th>\n",
       "      <td>0</td>\n",
       "      <td>89200</td>\n",
       "      <td>54045.0</td>\n",
       "      <td>92924.0</td>\n",
       "      <td>DebtCon</td>\n",
       "      <td>Other</td>\n",
       "      <td>15.0</td>\n",
       "      <td>0.0</td>\n",
       "      <td>0.0</td>\n",
       "      <td>212.279697</td>\n",
       "      <td>0.0</td>\n",
       "      <td>15.0</td>\n",
       "      <td>35.556590</td>\n",
       "    </tr>\n",
       "    <tr>\n",
       "      <th>5958</th>\n",
       "      <td>0</td>\n",
       "      <td>89800</td>\n",
       "      <td>50370.0</td>\n",
       "      <td>91861.0</td>\n",
       "      <td>DebtCon</td>\n",
       "      <td>Other</td>\n",
       "      <td>14.0</td>\n",
       "      <td>0.0</td>\n",
       "      <td>0.0</td>\n",
       "      <td>213.892709</td>\n",
       "      <td>0.0</td>\n",
       "      <td>16.0</td>\n",
       "      <td>34.340882</td>\n",
       "    </tr>\n",
       "    <tr>\n",
       "      <th>5959</th>\n",
       "      <td>0</td>\n",
       "      <td>89900</td>\n",
       "      <td>48811.0</td>\n",
       "      <td>88934.0</td>\n",
       "      <td>DebtCon</td>\n",
       "      <td>Other</td>\n",
       "      <td>15.0</td>\n",
       "      <td>0.0</td>\n",
       "      <td>0.0</td>\n",
       "      <td>219.601002</td>\n",
       "      <td>0.0</td>\n",
       "      <td>16.0</td>\n",
       "      <td>34.571519</td>\n",
       "    </tr>\n",
       "  </tbody>\n",
       "</table>\n",
       "<p>5768 rows × 13 columns</p>\n",
       "</div>"
      ],
      "text/plain": [
       "      BAD   LOAN  MORTDUE     VALUE   REASON     JOB   YOJ  DEROG  DELINQ  \\\n",
       "0       1   1100  25860.0   39025.0  HomeImp   Other  10.5    0.0     0.0   \n",
       "1       1   1300  70053.0   68400.0  HomeImp   Other   7.0    0.0     2.0   \n",
       "2       1   1500  13500.0   16700.0  HomeImp   Other   4.0    0.0     0.0   \n",
       "4       0   1700  97800.0  112000.0  HomeImp  Office   3.0    0.0     0.0   \n",
       "5       1   1700  30548.0   40320.0  HomeImp   Other   9.0    0.0     0.0   \n",
       "...   ...    ...      ...       ...      ...     ...   ...    ...     ...   \n",
       "5955    0  88900  57264.0   90185.0  DebtCon   Other  16.0    0.0     0.0   \n",
       "5956    0  89000  54576.0   92937.0  DebtCon   Other  16.0    0.0     0.0   \n",
       "5957    0  89200  54045.0   92924.0  DebtCon   Other  15.0    0.0     0.0   \n",
       "5958    0  89800  50370.0   91861.0  DebtCon   Other  14.0    0.0     0.0   \n",
       "5959    0  89900  48811.0   88934.0  DebtCon   Other  15.0    0.0     0.0   \n",
       "\n",
       "           CLAGE  NINQ  CLNO    DEBTINC  \n",
       "0      94.366667   1.0   9.0        NaN  \n",
       "1     121.833333   0.0  14.0        NaN  \n",
       "2     149.466667   1.0  10.0        NaN  \n",
       "4      93.333333   0.0  14.0        NaN  \n",
       "5     101.466002   1.0   8.0  37.113614  \n",
       "...          ...   ...   ...        ...  \n",
       "5955  221.808718   0.0  16.0  36.112347  \n",
       "5956  208.692070   0.0  15.0  35.859971  \n",
       "5957  212.279697   0.0  15.0  35.556590  \n",
       "5958  213.892709   0.0  16.0  34.340882  \n",
       "5959  219.601002   0.0  16.0  34.571519  \n",
       "\n",
       "[5768 rows x 13 columns]"
      ]
     },
     "execution_count": 23,
     "metadata": {},
     "output_type": "execute_result"
    }
   ],
   "source": [
    "# Remove the rows where the number of missing values is >=6\n",
    "df=df[np.sum(df.isnull(),axis=1) <6]\n",
    "df"
   ]
  },
  {
   "cell_type": "code",
   "execution_count": 24,
   "id": "6504bd24",
   "metadata": {},
   "outputs": [
    {
     "name": "stderr",
     "output_type": "stream",
     "text": [
      "c:\\users\\admin\\appdata\\local\\programs\\python\\python39\\lib\\site-packages\\pandas\\core\\generic.py:6392: SettingWithCopyWarning: \n",
      "A value is trying to be set on a copy of a slice from a DataFrame\n",
      "\n",
      "See the caveats in the documentation: https://pandas.pydata.org/pandas-docs/stable/user_guide/indexing.html#returning-a-view-versus-a-copy\n",
      "  return self._update_inplace(result)\n",
      "c:\\users\\admin\\appdata\\local\\programs\\python\\python39\\lib\\site-packages\\pandas\\core\\generic.py:6392: SettingWithCopyWarning: \n",
      "A value is trying to be set on a copy of a slice from a DataFrame\n",
      "\n",
      "See the caveats in the documentation: https://pandas.pydata.org/pandas-docs/stable/user_guide/indexing.html#returning-a-view-versus-a-copy\n",
      "  return self._update_inplace(result)\n",
      "c:\\users\\admin\\appdata\\local\\programs\\python\\python39\\lib\\site-packages\\pandas\\core\\generic.py:6392: SettingWithCopyWarning: \n",
      "A value is trying to be set on a copy of a slice from a DataFrame\n",
      "\n",
      "See the caveats in the documentation: https://pandas.pydata.org/pandas-docs/stable/user_guide/indexing.html#returning-a-view-versus-a-copy\n",
      "  return self._update_inplace(result)\n",
      "c:\\users\\admin\\appdata\\local\\programs\\python\\python39\\lib\\site-packages\\pandas\\core\\generic.py:6392: SettingWithCopyWarning: \n",
      "A value is trying to be set on a copy of a slice from a DataFrame\n",
      "\n",
      "See the caveats in the documentation: https://pandas.pydata.org/pandas-docs/stable/user_guide/indexing.html#returning-a-view-versus-a-copy\n",
      "  return self._update_inplace(result)\n",
      "c:\\users\\admin\\appdata\\local\\programs\\python\\python39\\lib\\site-packages\\pandas\\core\\generic.py:6392: SettingWithCopyWarning: \n",
      "A value is trying to be set on a copy of a slice from a DataFrame\n",
      "\n",
      "See the caveats in the documentation: https://pandas.pydata.org/pandas-docs/stable/user_guide/indexing.html#returning-a-view-versus-a-copy\n",
      "  return self._update_inplace(result)\n",
      "c:\\users\\admin\\appdata\\local\\programs\\python\\python39\\lib\\site-packages\\pandas\\core\\generic.py:6392: SettingWithCopyWarning: \n",
      "A value is trying to be set on a copy of a slice from a DataFrame\n",
      "\n",
      "See the caveats in the documentation: https://pandas.pydata.org/pandas-docs/stable/user_guide/indexing.html#returning-a-view-versus-a-copy\n",
      "  return self._update_inplace(result)\n",
      "c:\\users\\admin\\appdata\\local\\programs\\python\\python39\\lib\\site-packages\\pandas\\core\\generic.py:6392: SettingWithCopyWarning: \n",
      "A value is trying to be set on a copy of a slice from a DataFrame\n",
      "\n",
      "See the caveats in the documentation: https://pandas.pydata.org/pandas-docs/stable/user_guide/indexing.html#returning-a-view-versus-a-copy\n",
      "  return self._update_inplace(result)\n",
      "c:\\users\\admin\\appdata\\local\\programs\\python\\python39\\lib\\site-packages\\pandas\\core\\generic.py:6392: SettingWithCopyWarning: \n",
      "A value is trying to be set on a copy of a slice from a DataFrame\n",
      "\n",
      "See the caveats in the documentation: https://pandas.pydata.org/pandas-docs/stable/user_guide/indexing.html#returning-a-view-versus-a-copy\n",
      "  return self._update_inplace(result)\n",
      "c:\\users\\admin\\appdata\\local\\programs\\python\\python39\\lib\\site-packages\\pandas\\core\\generic.py:6392: SettingWithCopyWarning: \n",
      "A value is trying to be set on a copy of a slice from a DataFrame\n",
      "\n",
      "See the caveats in the documentation: https://pandas.pydata.org/pandas-docs/stable/user_guide/indexing.html#returning-a-view-versus-a-copy\n",
      "  return self._update_inplace(result)\n",
      "c:\\users\\admin\\appdata\\local\\programs\\python\\python39\\lib\\site-packages\\pandas\\core\\generic.py:6392: SettingWithCopyWarning: \n",
      "A value is trying to be set on a copy of a slice from a DataFrame\n",
      "\n",
      "See the caveats in the documentation: https://pandas.pydata.org/pandas-docs/stable/user_guide/indexing.html#returning-a-view-versus-a-copy\n",
      "  return self._update_inplace(result)\n",
      "c:\\users\\admin\\appdata\\local\\programs\\python\\python39\\lib\\site-packages\\pandas\\core\\generic.py:6392: SettingWithCopyWarning: \n",
      "A value is trying to be set on a copy of a slice from a DataFrame\n",
      "\n",
      "See the caveats in the documentation: https://pandas.pydata.org/pandas-docs/stable/user_guide/indexing.html#returning-a-view-versus-a-copy\n",
      "  return self._update_inplace(result)\n"
     ]
    },
    {
     "data": {
      "text/plain": [
       "BAD        0\n",
       "LOAN       0\n",
       "MORTDUE    0\n",
       "VALUE      0\n",
       "REASON     0\n",
       "JOB        0\n",
       "YOJ        0\n",
       "DEROG      0\n",
       "DELINQ     0\n",
       "CLAGE      0\n",
       "NINQ       0\n",
       "CLNO       0\n",
       "DEBTINC    0\n",
       "dtype: int64"
      ]
     },
     "execution_count": 24,
     "metadata": {},
     "output_type": "execute_result"
    }
   ],
   "source": [
    "# Removing the missing values for each variable\n",
    "\n",
    "catcols= ['REASON','JOB']\n",
    "for col in catcols:\n",
    "    df[col].fillna(df[col].mode()[0],inplace=True)\n",
    "    \n",
    "numcols=['LOAN','MORTDUE', 'VALUE', 'YOJ', 'DELINQ','DEROG','CLAGE', 'NINQ','CLNO','DEBTINC']\n",
    "for col in numcols:\n",
    "    df[col].fillna(df[col].median(),inplace=True)\n",
    "\n",
    "df.isna().sum() "
   ]
  },
  {
   "cell_type": "code",
   "execution_count": 25,
   "id": "4019e756",
   "metadata": {},
   "outputs": [
    {
     "data": {
      "text/plain": [
       "<AxesSubplot:>"
      ]
     },
     "execution_count": 25,
     "metadata": {},
     "output_type": "execute_result"
    },
    {
     "data": {
      "image/png": "[encoded data removed]",
      "text/plain": [
       "<Figure size 432x288 with 1 Axes>"
      ]
     },
     "metadata": {
      "needs_background": "light"
     },
     "output_type": "display_data"
    }
   ],
   "source": [
    "sns.heatmap(df.isnull(), cbar = False)"
   ]
  },
  {
   "cell_type": "code",
   "execution_count": 26,
   "id": "bf7cf3fb",
   "metadata": {},
   "outputs": [
    {
     "data": {
      "text/html": [
       "<div>\n",
       "<style scoped>\n",
       "    .dataframe tbody tr th:only-of-type {\n",
       "        vertical-align: middle;\n",
       "    }\n",
       "\n",
       "    .dataframe tbody tr th {\n",
       "        vertical-align: top;\n",
       "    }\n",
       "\n",
       "    .dataframe thead th {\n",
       "        text-align: right;\n",
       "    }\n",
       "</style>\n",
       "<table border=\"1\" class=\"dataframe\">\n",
       "  <thead>\n",
       "    <tr style=\"text-align: right;\">\n",
       "      <th></th>\n",
       "      <th>DebtCon</th>\n",
       "      <th>HomeImp</th>\n",
       "    </tr>\n",
       "  </thead>\n",
       "  <tbody>\n",
       "    <tr>\n",
       "      <th>0</th>\n",
       "      <td>0</td>\n",
       "      <td>1</td>\n",
       "    </tr>\n",
       "    <tr>\n",
       "      <th>1</th>\n",
       "      <td>0</td>\n",
       "      <td>1</td>\n",
       "    </tr>\n",
       "    <tr>\n",
       "      <th>2</th>\n",
       "      <td>0</td>\n",
       "      <td>1</td>\n",
       "    </tr>\n",
       "    <tr>\n",
       "      <th>4</th>\n",
       "      <td>0</td>\n",
       "      <td>1</td>\n",
       "    </tr>\n",
       "    <tr>\n",
       "      <th>5</th>\n",
       "      <td>0</td>\n",
       "      <td>1</td>\n",
       "    </tr>\n",
       "    <tr>\n",
       "      <th>...</th>\n",
       "      <td>...</td>\n",
       "      <td>...</td>\n",
       "    </tr>\n",
       "    <tr>\n",
       "      <th>5955</th>\n",
       "      <td>1</td>\n",
       "      <td>0</td>\n",
       "    </tr>\n",
       "    <tr>\n",
       "      <th>5956</th>\n",
       "      <td>1</td>\n",
       "      <td>0</td>\n",
       "    </tr>\n",
       "    <tr>\n",
       "      <th>5957</th>\n",
       "      <td>1</td>\n",
       "      <td>0</td>\n",
       "    </tr>\n",
       "    <tr>\n",
       "      <th>5958</th>\n",
       "      <td>1</td>\n",
       "      <td>0</td>\n",
       "    </tr>\n",
       "    <tr>\n",
       "      <th>5959</th>\n",
       "      <td>1</td>\n",
       "      <td>0</td>\n",
       "    </tr>\n",
       "  </tbody>\n",
       "</table>\n",
       "<p>5768 rows × 2 columns</p>\n",
       "</div>"
      ],
      "text/plain": [
       "      DebtCon  HomeImp\n",
       "0           0        1\n",
       "1           0        1\n",
       "2           0        1\n",
       "4           0        1\n",
       "5           0        1\n",
       "...       ...      ...\n",
       "5955        1        0\n",
       "5956        1        0\n",
       "5957        1        0\n",
       "5958        1        0\n",
       "5959        1        0\n",
       "\n",
       "[5768 rows x 2 columns]"
      ]
     },
     "execution_count": 26,
     "metadata": {},
     "output_type": "execute_result"
    }
   ],
   "source": [
    "# Encoding of categorical data variable 'REASON'\n",
    "pd.get_dummies(df['REASON']) "
   ]
  },
  {
   "cell_type": "code",
   "execution_count": 27,
   "id": "eefdbe07",
   "metadata": {},
   "outputs": [
    {
     "data": {
      "text/html": [
       "<div>\n",
       "<style scoped>\n",
       "    .dataframe tbody tr th:only-of-type {\n",
       "        vertical-align: middle;\n",
       "    }\n",
       "\n",
       "    .dataframe tbody tr th {\n",
       "        vertical-align: top;\n",
       "    }\n",
       "\n",
       "    .dataframe thead th {\n",
       "        text-align: right;\n",
       "    }\n",
       "</style>\n",
       "<table border=\"1\" class=\"dataframe\">\n",
       "  <thead>\n",
       "    <tr style=\"text-align: right;\">\n",
       "      <th></th>\n",
       "      <th>Mgr</th>\n",
       "      <th>Office</th>\n",
       "      <th>Other</th>\n",
       "      <th>ProfExe</th>\n",
       "      <th>Sales</th>\n",
       "      <th>Self</th>\n",
       "    </tr>\n",
       "  </thead>\n",
       "  <tbody>\n",
       "    <tr>\n",
       "      <th>0</th>\n",
       "      <td>0</td>\n",
       "      <td>0</td>\n",
       "      <td>1</td>\n",
       "      <td>0</td>\n",
       "      <td>0</td>\n",
       "      <td>0</td>\n",
       "    </tr>\n",
       "    <tr>\n",
       "      <th>1</th>\n",
       "      <td>0</td>\n",
       "      <td>0</td>\n",
       "      <td>1</td>\n",
       "      <td>0</td>\n",
       "      <td>0</td>\n",
       "      <td>0</td>\n",
       "    </tr>\n",
       "    <tr>\n",
       "      <th>2</th>\n",
       "      <td>0</td>\n",
       "      <td>0</td>\n",
       "      <td>1</td>\n",
       "      <td>0</td>\n",
       "      <td>0</td>\n",
       "      <td>0</td>\n",
       "    </tr>\n",
       "    <tr>\n",
       "      <th>4</th>\n",
       "      <td>0</td>\n",
       "      <td>1</td>\n",
       "      <td>0</td>\n",
       "      <td>0</td>\n",
       "      <td>0</td>\n",
       "      <td>0</td>\n",
       "    </tr>\n",
       "    <tr>\n",
       "      <th>5</th>\n",
       "      <td>0</td>\n",
       "      <td>0</td>\n",
       "      <td>1</td>\n",
       "      <td>0</td>\n",
       "      <td>0</td>\n",
       "      <td>0</td>\n",
       "    </tr>\n",
       "    <tr>\n",
       "      <th>...</th>\n",
       "      <td>...</td>\n",
       "      <td>...</td>\n",
       "      <td>...</td>\n",
       "      <td>...</td>\n",
       "      <td>...</td>\n",
       "      <td>...</td>\n",
       "    </tr>\n",
       "    <tr>\n",
       "      <th>5955</th>\n",
       "      <td>0</td>\n",
       "      <td>0</td>\n",
       "      <td>1</td>\n",
       "      <td>0</td>\n",
       "      <td>0</td>\n",
       "      <td>0</td>\n",
       "    </tr>\n",
       "    <tr>\n",
       "      <th>5956</th>\n",
       "      <td>0</td>\n",
       "      <td>0</td>\n",
       "      <td>1</td>\n",
       "      <td>0</td>\n",
       "      <td>0</td>\n",
       "      <td>0</td>\n",
       "    </tr>\n",
       "    <tr>\n",
       "      <th>5957</th>\n",
       "      <td>0</td>\n",
       "      <td>0</td>\n",
       "      <td>1</td>\n",
       "      <td>0</td>\n",
       "      <td>0</td>\n",
       "      <td>0</td>\n",
       "    </tr>\n",
       "    <tr>\n",
       "      <th>5958</th>\n",
       "      <td>0</td>\n",
       "      <td>0</td>\n",
       "      <td>1</td>\n",
       "      <td>0</td>\n",
       "      <td>0</td>\n",
       "      <td>0</td>\n",
       "    </tr>\n",
       "    <tr>\n",
       "      <th>5959</th>\n",
       "      <td>0</td>\n",
       "      <td>0</td>\n",
       "      <td>1</td>\n",
       "      <td>0</td>\n",
       "      <td>0</td>\n",
       "      <td>0</td>\n",
       "    </tr>\n",
       "  </tbody>\n",
       "</table>\n",
       "<p>5768 rows × 6 columns</p>\n",
       "</div>"
      ],
      "text/plain": [
       "      Mgr  Office  Other  ProfExe  Sales  Self\n",
       "0       0       0      1        0      0     0\n",
       "1       0       0      1        0      0     0\n",
       "2       0       0      1        0      0     0\n",
       "4       0       1      0        0      0     0\n",
       "5       0       0      1        0      0     0\n",
       "...   ...     ...    ...      ...    ...   ...\n",
       "5955    0       0      1        0      0     0\n",
       "5956    0       0      1        0      0     0\n",
       "5957    0       0      1        0      0     0\n",
       "5958    0       0      1        0      0     0\n",
       "5959    0       0      1        0      0     0\n",
       "\n",
       "[5768 rows x 6 columns]"
      ]
     },
     "execution_count": 27,
     "metadata": {},
     "output_type": "execute_result"
    }
   ],
   "source": [
    "# Encoding of categorical data variable 'JOB'\n",
    "pd.get_dummies(df['JOB']) "
   ]
  },
  {
   "cell_type": "code",
   "execution_count": 28,
   "id": "JWiamCQ9vaD1",
   "metadata": {
    "colab": {
     "base_uri": "https://localhost:8080/",
     "height": 488
    },
    "id": "JWiamCQ9vaD1",
    "outputId": "aea98efc-3e7d-471d-a488-f3c4a3e07a61",
    "scrolled": true
   },
   "outputs": [
    {
     "data": {
      "text/html": [
       "<div>\n",
       "<style scoped>\n",
       "    .dataframe tbody tr th:only-of-type {\n",
       "        vertical-align: middle;\n",
       "    }\n",
       "\n",
       "    .dataframe tbody tr th {\n",
       "        vertical-align: top;\n",
       "    }\n",
       "\n",
       "    .dataframe thead th {\n",
       "        text-align: right;\n",
       "    }\n",
       "</style>\n",
       "<table border=\"1\" class=\"dataframe\">\n",
       "  <thead>\n",
       "    <tr style=\"text-align: right;\">\n",
       "      <th></th>\n",
       "      <th>BAD</th>\n",
       "      <th>LOAN</th>\n",
       "      <th>MORTDUE</th>\n",
       "      <th>VALUE</th>\n",
       "      <th>YOJ</th>\n",
       "      <th>DEROG</th>\n",
       "      <th>DELINQ</th>\n",
       "      <th>CLAGE</th>\n",
       "      <th>NINQ</th>\n",
       "      <th>CLNO</th>\n",
       "      <th>DEBTINC</th>\n",
       "      <th>REASON_DebtCon</th>\n",
       "      <th>REASON_HomeImp</th>\n",
       "      <th>JOB_Mgr</th>\n",
       "      <th>JOB_Office</th>\n",
       "      <th>JOB_Other</th>\n",
       "      <th>JOB_ProfExe</th>\n",
       "      <th>JOB_Sales</th>\n",
       "      <th>JOB_Self</th>\n",
       "    </tr>\n",
       "  </thead>\n",
       "  <tbody>\n",
       "    <tr>\n",
       "      <th>0</th>\n",
       "      <td>1</td>\n",
       "      <td>1100</td>\n",
       "      <td>25860.0</td>\n",
       "      <td>39025.0</td>\n",
       "      <td>10.5</td>\n",
       "      <td>0.0</td>\n",
       "      <td>0.0</td>\n",
       "      <td>94.366667</td>\n",
       "      <td>1.0</td>\n",
       "      <td>9.0</td>\n",
       "      <td>34.917407</td>\n",
       "      <td>0</td>\n",
       "      <td>1</td>\n",
       "      <td>0</td>\n",
       "      <td>0</td>\n",
       "      <td>1</td>\n",
       "      <td>0</td>\n",
       "      <td>0</td>\n",
       "      <td>0</td>\n",
       "    </tr>\n",
       "    <tr>\n",
       "      <th>1</th>\n",
       "      <td>1</td>\n",
       "      <td>1300</td>\n",
       "      <td>70053.0</td>\n",
       "      <td>68400.0</td>\n",
       "      <td>7.0</td>\n",
       "      <td>0.0</td>\n",
       "      <td>2.0</td>\n",
       "      <td>121.833333</td>\n",
       "      <td>0.0</td>\n",
       "      <td>14.0</td>\n",
       "      <td>34.917407</td>\n",
       "      <td>0</td>\n",
       "      <td>1</td>\n",
       "      <td>0</td>\n",
       "      <td>0</td>\n",
       "      <td>1</td>\n",
       "      <td>0</td>\n",
       "      <td>0</td>\n",
       "      <td>0</td>\n",
       "    </tr>\n",
       "    <tr>\n",
       "      <th>2</th>\n",
       "      <td>1</td>\n",
       "      <td>1500</td>\n",
       "      <td>13500.0</td>\n",
       "      <td>16700.0</td>\n",
       "      <td>4.0</td>\n",
       "      <td>0.0</td>\n",
       "      <td>0.0</td>\n",
       "      <td>149.466667</td>\n",
       "      <td>1.0</td>\n",
       "      <td>10.0</td>\n",
       "      <td>34.917407</td>\n",
       "      <td>0</td>\n",
       "      <td>1</td>\n",
       "      <td>0</td>\n",
       "      <td>0</td>\n",
       "      <td>1</td>\n",
       "      <td>0</td>\n",
       "      <td>0</td>\n",
       "      <td>0</td>\n",
       "    </tr>\n",
       "    <tr>\n",
       "      <th>4</th>\n",
       "      <td>0</td>\n",
       "      <td>1700</td>\n",
       "      <td>97800.0</td>\n",
       "      <td>112000.0</td>\n",
       "      <td>3.0</td>\n",
       "      <td>0.0</td>\n",
       "      <td>0.0</td>\n",
       "      <td>93.333333</td>\n",
       "      <td>0.0</td>\n",
       "      <td>14.0</td>\n",
       "      <td>34.917407</td>\n",
       "      <td>0</td>\n",
       "      <td>1</td>\n",
       "      <td>0</td>\n",
       "      <td>1</td>\n",
       "      <td>0</td>\n",
       "      <td>0</td>\n",
       "      <td>0</td>\n",
       "      <td>0</td>\n",
       "    </tr>\n",
       "    <tr>\n",
       "      <th>5</th>\n",
       "      <td>1</td>\n",
       "      <td>1700</td>\n",
       "      <td>30548.0</td>\n",
       "      <td>40320.0</td>\n",
       "      <td>9.0</td>\n",
       "      <td>0.0</td>\n",
       "      <td>0.0</td>\n",
       "      <td>101.466002</td>\n",
       "      <td>1.0</td>\n",
       "      <td>8.0</td>\n",
       "      <td>37.113614</td>\n",
       "      <td>0</td>\n",
       "      <td>1</td>\n",
       "      <td>0</td>\n",
       "      <td>0</td>\n",
       "      <td>1</td>\n",
       "      <td>0</td>\n",
       "      <td>0</td>\n",
       "      <td>0</td>\n",
       "    </tr>\n",
       "    <tr>\n",
       "      <th>...</th>\n",
       "      <td>...</td>\n",
       "      <td>...</td>\n",
       "      <td>...</td>\n",
       "      <td>...</td>\n",
       "      <td>...</td>\n",
       "      <td>...</td>\n",
       "      <td>...</td>\n",
       "      <td>...</td>\n",
       "      <td>...</td>\n",
       "      <td>...</td>\n",
       "      <td>...</td>\n",
       "      <td>...</td>\n",
       "      <td>...</td>\n",
       "      <td>...</td>\n",
       "      <td>...</td>\n",
       "      <td>...</td>\n",
       "      <td>...</td>\n",
       "      <td>...</td>\n",
       "      <td>...</td>\n",
       "    </tr>\n",
       "    <tr>\n",
       "      <th>5955</th>\n",
       "      <td>0</td>\n",
       "      <td>88900</td>\n",
       "      <td>57264.0</td>\n",
       "      <td>90185.0</td>\n",
       "      <td>16.0</td>\n",
       "      <td>0.0</td>\n",
       "      <td>0.0</td>\n",
       "      <td>221.808718</td>\n",
       "      <td>0.0</td>\n",
       "      <td>16.0</td>\n",
       "      <td>36.112347</td>\n",
       "      <td>1</td>\n",
       "      <td>0</td>\n",
       "      <td>0</td>\n",
       "      <td>0</td>\n",
       "      <td>1</td>\n",
       "      <td>0</td>\n",
       "      <td>0</td>\n",
       "      <td>0</td>\n",
       "    </tr>\n",
       "    <tr>\n",
       "      <th>5956</th>\n",
       "      <td>0</td>\n",
       "      <td>89000</td>\n",
       "      <td>54576.0</td>\n",
       "      <td>92937.0</td>\n",
       "      <td>16.0</td>\n",
       "      <td>0.0</td>\n",
       "      <td>0.0</td>\n",
       "      <td>208.692070</td>\n",
       "      <td>0.0</td>\n",
       "      <td>15.0</td>\n",
       "      <td>35.859971</td>\n",
       "      <td>1</td>\n",
       "      <td>0</td>\n",
       "      <td>0</td>\n",
       "      <td>0</td>\n",
       "      <td>1</td>\n",
       "      <td>0</td>\n",
       "      <td>0</td>\n",
       "      <td>0</td>\n",
       "    </tr>\n",
       "    <tr>\n",
       "      <th>5957</th>\n",
       "      <td>0</td>\n",
       "      <td>89200</td>\n",
       "      <td>54045.0</td>\n",
       "      <td>92924.0</td>\n",
       "      <td>15.0</td>\n",
       "      <td>0.0</td>\n",
       "      <td>0.0</td>\n",
       "      <td>212.279697</td>\n",
       "      <td>0.0</td>\n",
       "      <td>15.0</td>\n",
       "      <td>35.556590</td>\n",
       "      <td>1</td>\n",
       "      <td>0</td>\n",
       "      <td>0</td>\n",
       "      <td>0</td>\n",
       "      <td>1</td>\n",
       "      <td>0</td>\n",
       "      <td>0</td>\n",
       "      <td>0</td>\n",
       "    </tr>\n",
       "    <tr>\n",
       "      <th>5958</th>\n",
       "      <td>0</td>\n",
       "      <td>89800</td>\n",
       "      <td>50370.0</td>\n",
       "      <td>91861.0</td>\n",
       "      <td>14.0</td>\n",
       "      <td>0.0</td>\n",
       "      <td>0.0</td>\n",
       "      <td>213.892709</td>\n",
       "      <td>0.0</td>\n",
       "      <td>16.0</td>\n",
       "      <td>34.340882</td>\n",
       "      <td>1</td>\n",
       "      <td>0</td>\n",
       "      <td>0</td>\n",
       "      <td>0</td>\n",
       "      <td>1</td>\n",
       "      <td>0</td>\n",
       "      <td>0</td>\n",
       "      <td>0</td>\n",
       "    </tr>\n",
       "    <tr>\n",
       "      <th>5959</th>\n",
       "      <td>0</td>\n",
       "      <td>89900</td>\n",
       "      <td>48811.0</td>\n",
       "      <td>88934.0</td>\n",
       "      <td>15.0</td>\n",
       "      <td>0.0</td>\n",
       "      <td>0.0</td>\n",
       "      <td>219.601002</td>\n",
       "      <td>0.0</td>\n",
       "      <td>16.0</td>\n",
       "      <td>34.571519</td>\n",
       "      <td>1</td>\n",
       "      <td>0</td>\n",
       "      <td>0</td>\n",
       "      <td>0</td>\n",
       "      <td>1</td>\n",
       "      <td>0</td>\n",
       "      <td>0</td>\n",
       "      <td>0</td>\n",
       "    </tr>\n",
       "  </tbody>\n",
       "</table>\n",
       "<p>5768 rows × 19 columns</p>\n",
       "</div>"
      ],
      "text/plain": [
       "      BAD   LOAN  MORTDUE     VALUE   YOJ  DEROG  DELINQ       CLAGE  NINQ  \\\n",
       "0       1   1100  25860.0   39025.0  10.5    0.0     0.0   94.366667   1.0   \n",
       "1       1   1300  70053.0   68400.0   7.0    0.0     2.0  121.833333   0.0   \n",
       "2       1   1500  13500.0   16700.0   4.0    0.0     0.0  149.466667   1.0   \n",
       "4       0   1700  97800.0  112000.0   3.0    0.0     0.0   93.333333   0.0   \n",
       "5       1   1700  30548.0   40320.0   9.0    0.0     0.0  101.466002   1.0   \n",
       "...   ...    ...      ...       ...   ...    ...     ...         ...   ...   \n",
       "5955    0  88900  57264.0   90185.0  16.0    0.0     0.0  221.808718   0.0   \n",
       "5956    0  89000  54576.0   92937.0  16.0    0.0     0.0  208.692070   0.0   \n",
       "5957    0  89200  54045.0   92924.0  15.0    0.0     0.0  212.279697   0.0   \n",
       "5958    0  89800  50370.0   91861.0  14.0    0.0     0.0  213.892709   0.0   \n",
       "5959    0  89900  48811.0   88934.0  15.0    0.0     0.0  219.601002   0.0   \n",
       "\n",
       "      CLNO    DEBTINC  REASON_DebtCon  REASON_HomeImp  JOB_Mgr  JOB_Office  \\\n",
       "0      9.0  34.917407               0               1        0           0   \n",
       "1     14.0  34.917407               0               1        0           0   \n",
       "2     10.0  34.917407               0               1        0           0   \n",
       "4     14.0  34.917407               0               1        0           1   \n",
       "5      8.0  37.113614               0               1        0           0   \n",
       "...    ...        ...             ...             ...      ...         ...   \n",
       "5955  16.0  36.112347               1               0        0           0   \n",
       "5956  15.0  35.859971               1               0        0           0   \n",
       "5957  15.0  35.556590               1               0        0           0   \n",
       "5958  16.0  34.340882               1               0        0           0   \n",
       "5959  16.0  34.571519               1               0        0           0   \n",
       "\n",
       "      JOB_Other  JOB_ProfExe  JOB_Sales  JOB_Self  \n",
       "0             1            0          0         0  \n",
       "1             1            0          0         0  \n",
       "2             1            0          0         0  \n",
       "4             0            0          0         0  \n",
       "5             1            0          0         0  \n",
       "...         ...          ...        ...       ...  \n",
       "5955          1            0          0         0  \n",
       "5956          1            0          0         0  \n",
       "5957          1            0          0         0  \n",
       "5958          1            0          0         0  \n",
       "5959          1            0          0         0  \n",
       "\n",
       "[5768 rows x 19 columns]"
      ]
     },
     "execution_count": 28,
     "metadata": {},
     "output_type": "execute_result"
    }
   ],
   "source": [
    "# New dataset\n",
    "\n",
    "df2 = pd.get_dummies(df) \n",
    "df2"
   ]
  },
  {
   "cell_type": "markdown",
   "id": "71a0e7e2",
   "metadata": {},
   "source": [
    "## 2. Splitting the data set"
   ]
  },
  {
   "cell_type": "code",
   "execution_count": 29,
   "id": "6vWiU-dJvaD2",
   "metadata": {
    "id": "6vWiU-dJvaD2"
   },
   "outputs": [],
   "source": [
    "# Split into X and Y\n",
    "\n",
    "X = df2.drop(columns=[\"BAD\"]) \n",
    "Y = df2[\"BAD\"] "
   ]
  },
  {
   "cell_type": "code",
   "execution_count": 30,
   "id": "rJJiMqTJvaD2",
   "metadata": {
    "id": "rJJiMqTJvaD2"
   },
   "outputs": [],
   "source": [
    "# Split in the training data and test data\n",
    "\n",
    "from sklearn.model_selection import train_test_split\n",
    "X_train, X_test, Y_train, Y_test = train_test_split(X,Y, test_size = 0.2, random_state = 30)"
   ]
  },
  {
   "cell_type": "code",
   "execution_count": 31,
   "id": "08956aa1",
   "metadata": {},
   "outputs": [
    {
     "name": "stdout",
     "output_type": "stream",
     "text": [
      "(4614, 18)\n",
      "(4614,)\n"
     ]
    }
   ],
   "source": [
    "print(X_train.shape)\n",
    "print(Y_train.shape)"
   ]
  },
  {
   "cell_type": "code",
   "execution_count": 32,
   "id": "353fdde4",
   "metadata": {},
   "outputs": [
    {
     "name": "stdout",
     "output_type": "stream",
     "text": [
      "(1154, 18)\n",
      "(1154,)\n"
     ]
    }
   ],
   "source": [
    "print(X_test.shape)\n",
    "print(Y_test.shape)"
   ]
  },
  {
   "cell_type": "code",
   "execution_count": 33,
   "id": "71f3b1d3",
   "metadata": {},
   "outputs": [],
   "source": [
    "from sklearn.preprocessing import StandardScaler\n",
    "sc = StandardScaler()\n",
    "X_train = sc.fit_transform(X_train)\n",
    "X_train= pd.DataFrame(X_train, index=Y_train.index, columns=X.columns)\n",
    "\n",
    "X_test = sc.transform(X_test)\n",
    "X_test= pd.DataFrame(X_test, index=Y_test.index, columns=X.columns)"
   ]
  },
  {
   "cell_type": "code",
   "execution_count": 34,
   "id": "b64311e1",
   "metadata": {},
   "outputs": [
    {
     "data": {
      "text/html": [
       "<div>\n",
       "<style scoped>\n",
       "    .dataframe tbody tr th:only-of-type {\n",
       "        vertical-align: middle;\n",
       "    }\n",
       "\n",
       "    .dataframe tbody tr th {\n",
       "        vertical-align: top;\n",
       "    }\n",
       "\n",
       "    .dataframe thead th {\n",
       "        text-align: right;\n",
       "    }\n",
       "</style>\n",
       "<table border=\"1\" class=\"dataframe\">\n",
       "  <thead>\n",
       "    <tr style=\"text-align: right;\">\n",
       "      <th></th>\n",
       "      <th>LOAN</th>\n",
       "      <th>MORTDUE</th>\n",
       "      <th>VALUE</th>\n",
       "      <th>YOJ</th>\n",
       "      <th>DEROG</th>\n",
       "      <th>DELINQ</th>\n",
       "      <th>CLAGE</th>\n",
       "      <th>NINQ</th>\n",
       "      <th>CLNO</th>\n",
       "      <th>DEBTINC</th>\n",
       "      <th>REASON_DebtCon</th>\n",
       "      <th>REASON_HomeImp</th>\n",
       "      <th>JOB_Mgr</th>\n",
       "      <th>JOB_Office</th>\n",
       "      <th>JOB_Other</th>\n",
       "      <th>JOB_ProfExe</th>\n",
       "      <th>JOB_Sales</th>\n",
       "      <th>JOB_Self</th>\n",
       "    </tr>\n",
       "  </thead>\n",
       "  <tbody>\n",
       "    <tr>\n",
       "      <th>3247</th>\n",
       "      <td>-0.121812</td>\n",
       "      <td>-0.526828</td>\n",
       "      <td>-0.669792</td>\n",
       "      <td>-0.657609</td>\n",
       "      <td>-0.287535</td>\n",
       "      <td>-0.386823</td>\n",
       "      <td>-0.760303</td>\n",
       "      <td>-0.704531</td>\n",
       "      <td>-0.435019</td>\n",
       "      <td>-0.257133</td>\n",
       "      <td>-1.530051</td>\n",
       "      <td>1.530051</td>\n",
       "      <td>-0.391054</td>\n",
       "      <td>2.222211</td>\n",
       "      <td>-0.865478</td>\n",
       "      <td>-0.527367</td>\n",
       "      <td>-0.141046</td>\n",
       "      <td>-0.186443</td>\n",
       "    </tr>\n",
       "    <tr>\n",
       "      <th>5226</th>\n",
       "      <td>0.854566</td>\n",
       "      <td>-0.043497</td>\n",
       "      <td>0.292284</td>\n",
       "      <td>-0.657609</td>\n",
       "      <td>-0.287535</td>\n",
       "      <td>-0.386823</td>\n",
       "      <td>-1.065665</td>\n",
       "      <td>0.486204</td>\n",
       "      <td>1.044328</td>\n",
       "      <td>0.805860</td>\n",
       "      <td>0.653573</td>\n",
       "      <td>-0.653573</td>\n",
       "      <td>-0.391054</td>\n",
       "      <td>-0.450002</td>\n",
       "      <td>1.155431</td>\n",
       "      <td>-0.527367</td>\n",
       "      <td>-0.141046</td>\n",
       "      <td>-0.186443</td>\n",
       "    </tr>\n",
       "    <tr>\n",
       "      <th>2041</th>\n",
       "      <td>-0.503487</td>\n",
       "      <td>-0.343998</td>\n",
       "      <td>-0.337068</td>\n",
       "      <td>-0.251296</td>\n",
       "      <td>-0.287535</td>\n",
       "      <td>-0.386823</td>\n",
       "      <td>1.350319</td>\n",
       "      <td>-0.704531</td>\n",
       "      <td>-0.139150</td>\n",
       "      <td>0.109528</td>\n",
       "      <td>-1.530051</td>\n",
       "      <td>1.530051</td>\n",
       "      <td>-0.391054</td>\n",
       "      <td>-0.450002</td>\n",
       "      <td>1.155431</td>\n",
       "      <td>-0.527367</td>\n",
       "      <td>-0.141046</td>\n",
       "      <td>-0.186443</td>\n",
       "    </tr>\n",
       "    <tr>\n",
       "      <th>4146</th>\n",
       "      <td>0.259863</td>\n",
       "      <td>1.879498</td>\n",
       "      <td>-0.222975</td>\n",
       "      <td>-0.251296</td>\n",
       "      <td>2.213287</td>\n",
       "      <td>3.310330</td>\n",
       "      <td>-0.157277</td>\n",
       "      <td>-0.704531</td>\n",
       "      <td>2.129183</td>\n",
       "      <td>0.535484</td>\n",
       "      <td>0.653573</td>\n",
       "      <td>-0.653573</td>\n",
       "      <td>-0.391054</td>\n",
       "      <td>-0.450002</td>\n",
       "      <td>-0.865478</td>\n",
       "      <td>-0.527367</td>\n",
       "      <td>-0.141046</td>\n",
       "      <td>5.363557</td>\n",
       "    </tr>\n",
       "    <tr>\n",
       "      <th>2342</th>\n",
       "      <td>-0.405849</td>\n",
       "      <td>-0.296837</td>\n",
       "      <td>-0.305772</td>\n",
       "      <td>-1.063921</td>\n",
       "      <td>-0.287535</td>\n",
       "      <td>-0.386823</td>\n",
       "      <td>-0.050132</td>\n",
       "      <td>0.486204</td>\n",
       "      <td>0.156720</td>\n",
       "      <td>2.221605</td>\n",
       "      <td>-1.530051</td>\n",
       "      <td>1.530051</td>\n",
       "      <td>2.557189</td>\n",
       "      <td>-0.450002</td>\n",
       "      <td>-0.865478</td>\n",
       "      <td>-0.527367</td>\n",
       "      <td>-0.141046</td>\n",
       "      <td>-0.186443</td>\n",
       "    </tr>\n",
       "    <tr>\n",
       "      <th>...</th>\n",
       "      <td>...</td>\n",
       "      <td>...</td>\n",
       "      <td>...</td>\n",
       "      <td>...</td>\n",
       "      <td>...</td>\n",
       "      <td>...</td>\n",
       "      <td>...</td>\n",
       "      <td>...</td>\n",
       "      <td>...</td>\n",
       "      <td>...</td>\n",
       "      <td>...</td>\n",
       "      <td>...</td>\n",
       "      <td>...</td>\n",
       "      <td>...</td>\n",
       "      <td>...</td>\n",
       "      <td>...</td>\n",
       "      <td>...</td>\n",
       "      <td>...</td>\n",
       "    </tr>\n",
       "    <tr>\n",
       "      <th>987</th>\n",
       "      <td>-0.831905</td>\n",
       "      <td>-1.201537</td>\n",
       "      <td>-1.093382</td>\n",
       "      <td>-0.793046</td>\n",
       "      <td>-0.287535</td>\n",
       "      <td>-0.386823</td>\n",
       "      <td>-0.063533</td>\n",
       "      <td>-0.109164</td>\n",
       "      <td>-0.139150</td>\n",
       "      <td>0.649508</td>\n",
       "      <td>0.653573</td>\n",
       "      <td>-0.653573</td>\n",
       "      <td>-0.391054</td>\n",
       "      <td>-0.450002</td>\n",
       "      <td>1.155431</td>\n",
       "      <td>-0.527367</td>\n",
       "      <td>-0.141046</td>\n",
       "      <td>-0.186443</td>\n",
       "    </tr>\n",
       "    <tr>\n",
       "      <th>5452</th>\n",
       "      <td>1.218489</td>\n",
       "      <td>-0.524211</td>\n",
       "      <td>0.067644</td>\n",
       "      <td>-0.793046</td>\n",
       "      <td>-0.287535</td>\n",
       "      <td>-0.386823</td>\n",
       "      <td>-0.076697</td>\n",
       "      <td>0.486204</td>\n",
       "      <td>0.255343</td>\n",
       "      <td>0.325660</td>\n",
       "      <td>0.653573</td>\n",
       "      <td>-0.653573</td>\n",
       "      <td>-0.391054</td>\n",
       "      <td>2.222211</td>\n",
       "      <td>-0.865478</td>\n",
       "      <td>-0.527367</td>\n",
       "      <td>-0.141046</td>\n",
       "      <td>-0.186443</td>\n",
       "    </tr>\n",
       "    <tr>\n",
       "      <th>548</th>\n",
       "      <td>-1.000552</td>\n",
       "      <td>0.334417</td>\n",
       "      <td>0.300195</td>\n",
       "      <td>-0.522171</td>\n",
       "      <td>-0.287535</td>\n",
       "      <td>-0.386823</td>\n",
       "      <td>0.185615</td>\n",
       "      <td>-0.109164</td>\n",
       "      <td>0.551212</td>\n",
       "      <td>-1.027909</td>\n",
       "      <td>-1.530051</td>\n",
       "      <td>1.530051</td>\n",
       "      <td>-0.391054</td>\n",
       "      <td>-0.450002</td>\n",
       "      <td>-0.865478</td>\n",
       "      <td>1.896211</td>\n",
       "      <td>-0.141046</td>\n",
       "      <td>-0.186443</td>\n",
       "    </tr>\n",
       "    <tr>\n",
       "      <th>4039</th>\n",
       "      <td>0.215483</td>\n",
       "      <td>-0.287780</td>\n",
       "      <td>-0.327724</td>\n",
       "      <td>1.373954</td>\n",
       "      <td>-0.287535</td>\n",
       "      <td>-0.386823</td>\n",
       "      <td>0.497640</td>\n",
       "      <td>-0.704531</td>\n",
       "      <td>-0.040527</td>\n",
       "      <td>-0.191601</td>\n",
       "      <td>0.653573</td>\n",
       "      <td>-0.653573</td>\n",
       "      <td>-0.391054</td>\n",
       "      <td>-0.450002</td>\n",
       "      <td>1.155431</td>\n",
       "      <td>-0.527367</td>\n",
       "      <td>-0.141046</td>\n",
       "      <td>-0.186443</td>\n",
       "    </tr>\n",
       "    <tr>\n",
       "      <th>4705</th>\n",
       "      <td>0.552777</td>\n",
       "      <td>-0.642438</td>\n",
       "      <td>-0.436054</td>\n",
       "      <td>0.019579</td>\n",
       "      <td>-0.287535</td>\n",
       "      <td>-0.386823</td>\n",
       "      <td>-0.699744</td>\n",
       "      <td>-0.109164</td>\n",
       "      <td>-0.237773</td>\n",
       "      <td>1.211318</td>\n",
       "      <td>0.653573</td>\n",
       "      <td>-0.653573</td>\n",
       "      <td>-0.391054</td>\n",
       "      <td>-0.450002</td>\n",
       "      <td>1.155431</td>\n",
       "      <td>-0.527367</td>\n",
       "      <td>-0.141046</td>\n",
       "      <td>-0.186443</td>\n",
       "    </tr>\n",
       "  </tbody>\n",
       "</table>\n",
       "<p>4614 rows × 18 columns</p>\n",
       "</div>"
      ],
      "text/plain": [
       "          LOAN   MORTDUE     VALUE       YOJ     DEROG    DELINQ     CLAGE  \\\n",
       "3247 -0.121812 -0.526828 -0.669792 -0.657609 -0.287535 -0.386823 -0.760303   \n",
       "5226  0.854566 -0.043497  0.292284 -0.657609 -0.287535 -0.386823 -1.065665   \n",
       "2041 -0.503487 -0.343998 -0.337068 -0.251296 -0.287535 -0.386823  1.350319   \n",
       "4146  0.259863  1.879498 -0.222975 -0.251296  2.213287  3.310330 -0.157277   \n",
       "2342 -0.405849 -0.296837 -0.305772 -1.063921 -0.287535 -0.386823 -0.050132   \n",
       "...        ...       ...       ...       ...       ...       ...       ...   \n",
       "987  -0.831905 -1.201537 -1.093382 -0.793046 -0.287535 -0.386823 -0.063533   \n",
       "5452  1.218489 -0.524211  0.067644 -0.793046 -0.287535 -0.386823 -0.076697   \n",
       "548  -1.000552  0.334417  0.300195 -0.522171 -0.287535 -0.386823  0.185615   \n",
       "4039  0.215483 -0.287780 -0.327724  1.373954 -0.287535 -0.386823  0.497640   \n",
       "4705  0.552777 -0.642438 -0.436054  0.019579 -0.287535 -0.386823 -0.699744   \n",
       "\n",
       "          NINQ      CLNO   DEBTINC  REASON_DebtCon  REASON_HomeImp   JOB_Mgr  \\\n",
       "3247 -0.704531 -0.435019 -0.257133       -1.530051        1.530051 -0.391054   \n",
       "5226  0.486204  1.044328  0.805860        0.653573       -0.653573 -0.391054   \n",
       "2041 -0.704531 -0.139150  0.109528       -1.530051        1.530051 -0.391054   \n",
       "4146 -0.704531  2.129183  0.535484        0.653573       -0.653573 -0.391054   \n",
       "2342  0.486204  0.156720  2.221605       -1.530051        1.530051  2.557189   \n",
       "...        ...       ...       ...             ...             ...       ...   \n",
       "987  -0.109164 -0.139150  0.649508        0.653573       -0.653573 -0.391054   \n",
       "5452  0.486204  0.255343  0.325660        0.653573       -0.653573 -0.391054   \n",
       "548  -0.109164  0.551212 -1.027909       -1.530051        1.530051 -0.391054   \n",
       "4039 -0.704531 -0.040527 -0.191601        0.653573       -0.653573 -0.391054   \n",
       "4705 -0.109164 -0.237773  1.211318        0.653573       -0.653573 -0.391054   \n",
       "\n",
       "      JOB_Office  JOB_Other  JOB_ProfExe  JOB_Sales  JOB_Self  \n",
       "3247    2.222211  -0.865478    -0.527367  -0.141046 -0.186443  \n",
       "5226   -0.450002   1.155431    -0.527367  -0.141046 -0.186443  \n",
       "2041   -0.450002   1.155431    -0.527367  -0.141046 -0.186443  \n",
       "4146   -0.450002  -0.865478    -0.527367  -0.141046  5.363557  \n",
       "2342   -0.450002  -0.865478    -0.527367  -0.141046 -0.186443  \n",
       "...          ...        ...          ...        ...       ...  \n",
       "987    -0.450002   1.155431    -0.527367  -0.141046 -0.186443  \n",
       "5452    2.222211  -0.865478    -0.527367  -0.141046 -0.186443  \n",
       "548    -0.450002  -0.865478     1.896211  -0.141046 -0.186443  \n",
       "4039   -0.450002   1.155431    -0.527367  -0.141046 -0.186443  \n",
       "4705   -0.450002   1.155431    -0.527367  -0.141046 -0.186443  \n",
       "\n",
       "[4614 rows x 18 columns]"
      ]
     },
     "execution_count": 34,
     "metadata": {},
     "output_type": "execute_result"
    }
   ],
   "source": [
    "X_train"
   ]
  },
  {
   "cell_type": "code",
   "execution_count": 35,
   "id": "48d5d01f",
   "metadata": {},
   "outputs": [
    {
     "data": {
      "text/html": [
       "<div>\n",
       "<style scoped>\n",
       "    .dataframe tbody tr th:only-of-type {\n",
       "        vertical-align: middle;\n",
       "    }\n",
       "\n",
       "    .dataframe tbody tr th {\n",
       "        vertical-align: top;\n",
       "    }\n",
       "\n",
       "    .dataframe thead th {\n",
       "        text-align: right;\n",
       "    }\n",
       "</style>\n",
       "<table border=\"1\" class=\"dataframe\">\n",
       "  <thead>\n",
       "    <tr style=\"text-align: right;\">\n",
       "      <th></th>\n",
       "      <th>LOAN</th>\n",
       "      <th>MORTDUE</th>\n",
       "      <th>VALUE</th>\n",
       "      <th>YOJ</th>\n",
       "      <th>DEROG</th>\n",
       "      <th>DELINQ</th>\n",
       "      <th>CLAGE</th>\n",
       "      <th>NINQ</th>\n",
       "      <th>CLNO</th>\n",
       "      <th>DEBTINC</th>\n",
       "      <th>REASON_DebtCon</th>\n",
       "      <th>REASON_HomeImp</th>\n",
       "      <th>JOB_Mgr</th>\n",
       "      <th>JOB_Office</th>\n",
       "      <th>JOB_Other</th>\n",
       "      <th>JOB_ProfExe</th>\n",
       "      <th>JOB_Sales</th>\n",
       "      <th>JOB_Self</th>\n",
       "    </tr>\n",
       "  </thead>\n",
       "  <tbody>\n",
       "    <tr>\n",
       "      <th>3266</th>\n",
       "      <td>-0.112935</td>\n",
       "      <td>-1.112010</td>\n",
       "      <td>-0.336334</td>\n",
       "      <td>-0.251296</td>\n",
       "      <td>-0.287535</td>\n",
       "      <td>-0.386823</td>\n",
       "      <td>0.821902</td>\n",
       "      <td>-0.704531</td>\n",
       "      <td>2.819545</td>\n",
       "      <td>1.317455</td>\n",
       "      <td>-1.530051</td>\n",
       "      <td>1.530051</td>\n",
       "      <td>-0.391054</td>\n",
       "      <td>-0.450002</td>\n",
       "      <td>1.155431</td>\n",
       "      <td>-0.527367</td>\n",
       "      <td>-0.141046</td>\n",
       "      <td>-0.186443</td>\n",
       "    </tr>\n",
       "    <tr>\n",
       "      <th>3478</th>\n",
       "      <td>-0.033050</td>\n",
       "      <td>-0.145949</td>\n",
       "      <td>-0.123081</td>\n",
       "      <td>-0.793046</td>\n",
       "      <td>-0.287535</td>\n",
       "      <td>-0.386823</td>\n",
       "      <td>-0.293745</td>\n",
       "      <td>-0.704531</td>\n",
       "      <td>0.353966</td>\n",
       "      <td>-1.549243</td>\n",
       "      <td>0.653573</td>\n",
       "      <td>-0.653573</td>\n",
       "      <td>-0.391054</td>\n",
       "      <td>2.222211</td>\n",
       "      <td>-0.865478</td>\n",
       "      <td>-0.527367</td>\n",
       "      <td>-0.141046</td>\n",
       "      <td>-0.186443</td>\n",
       "    </tr>\n",
       "    <tr>\n",
       "      <th>3522</th>\n",
       "      <td>-0.006421</td>\n",
       "      <td>-1.158198</td>\n",
       "      <td>-0.710431</td>\n",
       "      <td>0.425891</td>\n",
       "      <td>-0.287535</td>\n",
       "      <td>-0.386823</td>\n",
       "      <td>-1.571383</td>\n",
       "      <td>-0.704531</td>\n",
       "      <td>-1.322627</td>\n",
       "      <td>0.925755</td>\n",
       "      <td>-1.530051</td>\n",
       "      <td>1.530051</td>\n",
       "      <td>-0.391054</td>\n",
       "      <td>-0.450002</td>\n",
       "      <td>1.155431</td>\n",
       "      <td>-0.527367</td>\n",
       "      <td>-0.141046</td>\n",
       "      <td>-0.186443</td>\n",
       "    </tr>\n",
       "    <tr>\n",
       "      <th>3846</th>\n",
       "      <td>0.126721</td>\n",
       "      <td>0.702602</td>\n",
       "      <td>0.648777</td>\n",
       "      <td>0.155016</td>\n",
       "      <td>-0.287535</td>\n",
       "      <td>-0.386823</td>\n",
       "      <td>-0.200141</td>\n",
       "      <td>-0.109164</td>\n",
       "      <td>0.156720</td>\n",
       "      <td>0.069208</td>\n",
       "      <td>-1.530051</td>\n",
       "      <td>1.530051</td>\n",
       "      <td>-0.391054</td>\n",
       "      <td>-0.450002</td>\n",
       "      <td>-0.865478</td>\n",
       "      <td>1.896211</td>\n",
       "      <td>-0.141046</td>\n",
       "      <td>-0.186443</td>\n",
       "    </tr>\n",
       "    <tr>\n",
       "      <th>5666</th>\n",
       "      <td>1.893078</td>\n",
       "      <td>5.956498</td>\n",
       "      <td>5.457724</td>\n",
       "      <td>1.780266</td>\n",
       "      <td>-0.287535</td>\n",
       "      <td>-0.386823</td>\n",
       "      <td>0.758797</td>\n",
       "      <td>4.058411</td>\n",
       "      <td>1.241574</td>\n",
       "      <td>0.109528</td>\n",
       "      <td>0.653573</td>\n",
       "      <td>-0.653573</td>\n",
       "      <td>-0.391054</td>\n",
       "      <td>-0.450002</td>\n",
       "      <td>-0.865478</td>\n",
       "      <td>1.896211</td>\n",
       "      <td>-0.141046</td>\n",
       "      <td>-0.186443</td>\n",
       "    </tr>\n",
       "    <tr>\n",
       "      <th>...</th>\n",
       "      <td>...</td>\n",
       "      <td>...</td>\n",
       "      <td>...</td>\n",
       "      <td>...</td>\n",
       "      <td>...</td>\n",
       "      <td>...</td>\n",
       "      <td>...</td>\n",
       "      <td>...</td>\n",
       "      <td>...</td>\n",
       "      <td>...</td>\n",
       "      <td>...</td>\n",
       "      <td>...</td>\n",
       "      <td>...</td>\n",
       "      <td>...</td>\n",
       "      <td>...</td>\n",
       "      <td>...</td>\n",
       "      <td>...</td>\n",
       "      <td>...</td>\n",
       "    </tr>\n",
       "    <tr>\n",
       "      <th>3671</th>\n",
       "      <td>0.055712</td>\n",
       "      <td>0.599084</td>\n",
       "      <td>0.427473</td>\n",
       "      <td>-1.199359</td>\n",
       "      <td>-0.287535</td>\n",
       "      <td>0.537465</td>\n",
       "      <td>1.465368</td>\n",
       "      <td>-0.109164</td>\n",
       "      <td>-0.139150</td>\n",
       "      <td>1.261020</td>\n",
       "      <td>-1.530051</td>\n",
       "      <td>1.530051</td>\n",
       "      <td>2.557189</td>\n",
       "      <td>-0.450002</td>\n",
       "      <td>-0.865478</td>\n",
       "      <td>-0.527367</td>\n",
       "      <td>-0.141046</td>\n",
       "      <td>-0.186443</td>\n",
       "    </tr>\n",
       "    <tr>\n",
       "      <th>5047</th>\n",
       "      <td>0.730300</td>\n",
       "      <td>0.026203</td>\n",
       "      <td>0.427595</td>\n",
       "      <td>-1.199359</td>\n",
       "      <td>-0.287535</td>\n",
       "      <td>-0.386823</td>\n",
       "      <td>1.632997</td>\n",
       "      <td>-0.704531</td>\n",
       "      <td>0.156720</td>\n",
       "      <td>0.578262</td>\n",
       "      <td>0.653573</td>\n",
       "      <td>-0.653573</td>\n",
       "      <td>-0.391054</td>\n",
       "      <td>2.222211</td>\n",
       "      <td>-0.865478</td>\n",
       "      <td>-0.527367</td>\n",
       "      <td>-0.141046</td>\n",
       "      <td>-0.186443</td>\n",
       "    </tr>\n",
       "    <tr>\n",
       "      <th>4678</th>\n",
       "      <td>0.526148</td>\n",
       "      <td>-0.753993</td>\n",
       "      <td>-0.712317</td>\n",
       "      <td>1.373954</td>\n",
       "      <td>-0.287535</td>\n",
       "      <td>-0.386823</td>\n",
       "      <td>0.033796</td>\n",
       "      <td>0.486204</td>\n",
       "      <td>0.058097</td>\n",
       "      <td>0.109528</td>\n",
       "      <td>0.653573</td>\n",
       "      <td>-0.653573</td>\n",
       "      <td>-0.391054</td>\n",
       "      <td>2.222211</td>\n",
       "      <td>-0.865478</td>\n",
       "      <td>-0.527367</td>\n",
       "      <td>-0.141046</td>\n",
       "      <td>-0.186443</td>\n",
       "    </tr>\n",
       "    <tr>\n",
       "      <th>308</th>\n",
       "      <td>-1.124818</td>\n",
       "      <td>-0.205016</td>\n",
       "      <td>-0.142029</td>\n",
       "      <td>2.322016</td>\n",
       "      <td>0.962876</td>\n",
       "      <td>2.386042</td>\n",
       "      <td>-1.304974</td>\n",
       "      <td>-0.109164</td>\n",
       "      <td>1.241574</td>\n",
       "      <td>0.109528</td>\n",
       "      <td>0.653573</td>\n",
       "      <td>-0.653573</td>\n",
       "      <td>-0.391054</td>\n",
       "      <td>-0.450002</td>\n",
       "      <td>1.155431</td>\n",
       "      <td>-0.527367</td>\n",
       "      <td>-0.141046</td>\n",
       "      <td>-0.186443</td>\n",
       "    </tr>\n",
       "    <tr>\n",
       "      <th>4493</th>\n",
       "      <td>0.428511</td>\n",
       "      <td>-1.270796</td>\n",
       "      <td>-0.888582</td>\n",
       "      <td>2.322016</td>\n",
       "      <td>-0.287535</td>\n",
       "      <td>0.537465</td>\n",
       "      <td>0.333317</td>\n",
       "      <td>-0.704531</td>\n",
       "      <td>0.255343</td>\n",
       "      <td>-0.903413</td>\n",
       "      <td>0.653573</td>\n",
       "      <td>-0.653573</td>\n",
       "      <td>-0.391054</td>\n",
       "      <td>-0.450002</td>\n",
       "      <td>1.155431</td>\n",
       "      <td>-0.527367</td>\n",
       "      <td>-0.141046</td>\n",
       "      <td>-0.186443</td>\n",
       "    </tr>\n",
       "  </tbody>\n",
       "</table>\n",
       "<p>1154 rows × 18 columns</p>\n",
       "</div>"
      ],
      "text/plain": [
       "          LOAN   MORTDUE     VALUE       YOJ     DEROG    DELINQ     CLAGE  \\\n",
       "3266 -0.112935 -1.112010 -0.336334 -0.251296 -0.287535 -0.386823  0.821902   \n",
       "3478 -0.033050 -0.145949 -0.123081 -0.793046 -0.287535 -0.386823 -0.293745   \n",
       "3522 -0.006421 -1.158198 -0.710431  0.425891 -0.287535 -0.386823 -1.571383   \n",
       "3846  0.126721  0.702602  0.648777  0.155016 -0.287535 -0.386823 -0.200141   \n",
       "5666  1.893078  5.956498  5.457724  1.780266 -0.287535 -0.386823  0.758797   \n",
       "...        ...       ...       ...       ...       ...       ...       ...   \n",
       "3671  0.055712  0.599084  0.427473 -1.199359 -0.287535  0.537465  1.465368   \n",
       "5047  0.730300  0.026203  0.427595 -1.199359 -0.287535 -0.386823  1.632997   \n",
       "4678  0.526148 -0.753993 -0.712317  1.373954 -0.287535 -0.386823  0.033796   \n",
       "308  -1.124818 -0.205016 -0.142029  2.322016  0.962876  2.386042 -1.304974   \n",
       "4493  0.428511 -1.270796 -0.888582  2.322016 -0.287535  0.537465  0.333317   \n",
       "\n",
       "          NINQ      CLNO   DEBTINC  REASON_DebtCon  REASON_HomeImp   JOB_Mgr  \\\n",
       "3266 -0.704531  2.819545  1.317455       -1.530051        1.530051 -0.391054   \n",
       "3478 -0.704531  0.353966 -1.549243        0.653573       -0.653573 -0.391054   \n",
       "3522 -0.704531 -1.322627  0.925755       -1.530051        1.530051 -0.391054   \n",
       "3846 -0.109164  0.156720  0.069208       -1.530051        1.530051 -0.391054   \n",
       "5666  4.058411  1.241574  0.109528        0.653573       -0.653573 -0.391054   \n",
       "...        ...       ...       ...             ...             ...       ...   \n",
       "3671 -0.109164 -0.139150  1.261020       -1.530051        1.530051  2.557189   \n",
       "5047 -0.704531  0.156720  0.578262        0.653573       -0.653573 -0.391054   \n",
       "4678  0.486204  0.058097  0.109528        0.653573       -0.653573 -0.391054   \n",
       "308  -0.109164  1.241574  0.109528        0.653573       -0.653573 -0.391054   \n",
       "4493 -0.704531  0.255343 -0.903413        0.653573       -0.653573 -0.391054   \n",
       "\n",
       "      JOB_Office  JOB_Other  JOB_ProfExe  JOB_Sales  JOB_Self  \n",
       "3266   -0.450002   1.155431    -0.527367  -0.141046 -0.186443  \n",
       "3478    2.222211  -0.865478    -0.527367  -0.141046 -0.186443  \n",
       "3522   -0.450002   1.155431    -0.527367  -0.141046 -0.186443  \n",
       "3846   -0.450002  -0.865478     1.896211  -0.141046 -0.186443  \n",
       "5666   -0.450002  -0.865478     1.896211  -0.141046 -0.186443  \n",
       "...          ...        ...          ...        ...       ...  \n",
       "3671   -0.450002  -0.865478    -0.527367  -0.141046 -0.186443  \n",
       "5047    2.222211  -0.865478    -0.527367  -0.141046 -0.186443  \n",
       "4678    2.222211  -0.865478    -0.527367  -0.141046 -0.186443  \n",
       "308    -0.450002   1.155431    -0.527367  -0.141046 -0.186443  \n",
       "4493   -0.450002   1.155431    -0.527367  -0.141046 -0.186443  \n",
       "\n",
       "[1154 rows x 18 columns]"
      ]
     },
     "execution_count": 35,
     "metadata": {},
     "output_type": "execute_result"
    }
   ],
   "source": [
    "X_test"
   ]
  },
  {
   "cell_type": "markdown",
   "id": "2c78ba84",
   "metadata": {},
   "source": [
    "## 3. Predicting Loan Defaults with Neural Networks"
   ]
  },
  {
   "cell_type": "code",
   "execution_count": 36,
   "id": "84d524e5",
   "metadata": {},
   "outputs": [],
   "source": [
    "import tensorflow \n",
    "import tensorflow.keras.models as tmodels\n",
    "import tensorflow.keras.layers as tlayers\n",
    "import tensorflow.keras.optimizers as optimizers\n",
    "import keras_tuner\n",
    "from tensorflow import keras"
   ]
  },
  {
   "cell_type": "code",
   "execution_count": 37,
   "id": "1cd1c3e2",
   "metadata": {},
   "outputs": [],
   "source": [
    "def model_NN(hp): \n",
    "\n",
    "  model = tmodels.Sequential()\n",
    "  hp_units = hp.Int('units', min_value=10, max_value=50, step=5)     # Hinzufügen Hidden Layer 1\n",
    "  model.add(tlayers.Dense(hp_units, activation='relu', input_shape=(18,)))  # Hinzufügen Input Layer\n",
    "\n",
    "  hp_dropout_rate = hp.Choice('drop_out_rate', values=[0.02, 0.05, 0.1, 0.2])  # Hinzufügen Dropout\n",
    "  model.add(tlayers.Dropout(hp_dropout_rate)) \n",
    "\n",
    "  hp_units2 = hp.Int('units2', min_value=5, max_value=30, step=5)  # Hinzufügen Hidden Layer 2\n",
    "  model.add(tlayers.Dense(hp_units2, activation='relu')) \n",
    "  model.add(tlayers.Dropout(hp_dropout_rate)) \n",
    "  model.add(tlayers.Dense(1, activation='sigmoid'))                # Hinzufügen Output Layer\n",
    "\n",
    "  hp_learning_rate = hp.Choice('learning_rate', values=[1e-4, 1e-3, 1e-2]) \n",
    "  model.compile(optimizer=keras.optimizers.Adam(learning_rate=hp_learning_rate),\n",
    "                loss=\"binary_crossentropy\",\n",
    "                metrics=['accuracy'])\n",
    "  return model\n"
   ]
  },
  {
   "cell_type": "code",
   "execution_count": 38,
   "id": "df2d2c29",
   "metadata": {},
   "outputs": [
    {
     "name": "stdout",
     "output_type": "stream",
     "text": [
      "INFO:tensorflow:Reloading Oracle from existing project .\\untitled_project\\oracle.json\n",
      "INFO:tensorflow:Reloading Tuner from .\\untitled_project\\tuner0.json\n"
     ]
    }
   ],
   "source": [
    "# Finding the optimal parameters\n",
    "\n",
    "from sklearn.model_selection import RandomizedSearchCV\n",
    "tuner = keras_tuner.RandomSearch(model_NN, objective='val_accuracy', max_trials=15)"
   ]
  },
  {
   "cell_type": "code",
   "execution_count": 39,
   "id": "8cbc34fc",
   "metadata": {},
   "outputs": [
    {
     "name": "stdout",
     "output_type": "stream",
     "text": [
      "INFO:tensorflow:Oracle triggered exit\n"
     ]
    }
   ],
   "source": [
    "stop_early = tensorflow.keras.callbacks.EarlyStopping(monitor='val_loss', patience=5)\n",
    "tuner.search(X_train, Y_train, epochs=50,validation_split=0.2,callbacks=[stop_early])"
   ]
  },
  {
   "cell_type": "code",
   "execution_count": 40,
   "id": "04b3529b",
   "metadata": {},
   "outputs": [
    {
     "name": "stdout",
     "output_type": "stream",
     "text": [
      "\n",
      "The hyperparameter search is completed. \n",
      "The optimal number of units in the first hidden layer is 45, \n",
      "The optimal number of units in the second hidden layer is 30 ,\n",
      "The optimal drop out reate is 0.05   \n",
      "And the optimal learning rate for the optimizer is 0.01.\n",
      "\n"
     ]
    }
   ],
   "source": [
    "best_hps=tuner.get_best_hyperparameters(num_trials=1)[0]\n",
    "print(f\"\"\"\n",
    "The hyperparameter search is completed. \n",
    "The optimal number of units in the first hidden layer is {best_hps.get('units')}, \n",
    "The optimal number of units in the second hidden layer is {best_hps.get('units2')} ,\n",
    "The optimal drop out reate is {best_hps.get('drop_out_rate')}   \n",
    "And the optimal learning rate for the optimizer is {best_hps.get('learning_rate')}.\n",
    "\"\"\")"
   ]
  },
  {
   "cell_type": "code",
   "execution_count": 41,
   "id": "5702ae62",
   "metadata": {},
   "outputs": [
    {
     "name": "stdout",
     "output_type": "stream",
     "text": [
      "Epoch 1/50\n",
      "370/370 [==============================] - 2s 4ms/step - loss: 0.3979 - accuracy: 0.8442 - val_loss: 0.4017 - val_accuracy: 0.8321\n",
      "Epoch 2/50\n",
      "370/370 [==============================] - 1s 4ms/step - loss: 0.3608 - accuracy: 0.8567 - val_loss: 0.3833 - val_accuracy: 0.8451\n",
      "Epoch 3/50\n",
      "370/370 [==============================] - 2s 4ms/step - loss: 0.3416 - accuracy: 0.8678 - val_loss: 0.3724 - val_accuracy: 0.8494\n",
      "Epoch 4/50\n",
      "370/370 [==============================] - 2s 4ms/step - loss: 0.3300 - accuracy: 0.8735 - val_loss: 0.3689 - val_accuracy: 0.8472\n",
      "Epoch 5/50\n",
      "370/370 [==============================] - 2s 4ms/step - loss: 0.3210 - accuracy: 0.8702 - val_loss: 0.3689 - val_accuracy: 0.8537\n",
      "Epoch 6/50\n",
      "370/370 [==============================] - 2s 4ms/step - loss: 0.3177 - accuracy: 0.8754 - val_loss: 0.3495 - val_accuracy: 0.8602\n",
      "Epoch 7/50\n",
      "370/370 [==============================] - 2s 4ms/step - loss: 0.2962 - accuracy: 0.8846 - val_loss: 0.3761 - val_accuracy: 0.8657\n",
      "Epoch 8/50\n",
      "370/370 [==============================] - 2s 4ms/step - loss: 0.2841 - accuracy: 0.8911 - val_loss: 0.3542 - val_accuracy: 0.8689\n",
      "Epoch 9/50\n",
      "370/370 [==============================] - 2s 4ms/step - loss: 0.2878 - accuracy: 0.8903 - val_loss: 0.3248 - val_accuracy: 0.8765\n",
      "Epoch 10/50\n",
      "370/370 [==============================] - 2s 4ms/step - loss: 0.2713 - accuracy: 0.9006 - val_loss: 0.3146 - val_accuracy: 0.8765\n",
      "Epoch 11/50\n",
      "370/370 [==============================] - 2s 4ms/step - loss: 0.2603 - accuracy: 0.9035 - val_loss: 0.3636 - val_accuracy: 0.8646\n",
      "Epoch 12/50\n",
      "370/370 [==============================] - 2s 4ms/step - loss: 0.2627 - accuracy: 0.8973 - val_loss: 0.3171 - val_accuracy: 0.8819\n",
      "Epoch 13/50\n",
      "370/370 [==============================] - 1s 4ms/step - loss: 0.2530 - accuracy: 0.9049 - val_loss: 0.2857 - val_accuracy: 0.8938\n",
      "Epoch 14/50\n",
      "370/370 [==============================] - 1s 4ms/step - loss: 0.2547 - accuracy: 0.9027 - val_loss: 0.3107 - val_accuracy: 0.8917\n",
      "Epoch 15/50\n",
      "370/370 [==============================] - 1s 4ms/step - loss: 0.2358 - accuracy: 0.9109 - val_loss: 0.2889 - val_accuracy: 0.8949\n",
      "Epoch 16/50\n",
      "370/370 [==============================] - 1s 4ms/step - loss: 0.2286 - accuracy: 0.9130 - val_loss: 0.3446 - val_accuracy: 0.8841\n",
      "Epoch 17/50\n",
      "370/370 [==============================] - 1s 4ms/step - loss: 0.2297 - accuracy: 0.9117 - val_loss: 0.2941 - val_accuracy: 0.8927\n",
      "Epoch 18/50\n",
      "370/370 [==============================] - 1s 4ms/step - loss: 0.2226 - accuracy: 0.9203 - val_loss: 0.2860 - val_accuracy: 0.8938\n"
     ]
    }
   ],
   "source": [
    "# Training and Adjusting Model\n",
    "\n",
    "model = tuner.hypermodel.build(best_hps)\n",
    "story = model.fit(X_train, Y_train,batch_size = 10, epochs=50,validation_split=0.2,callbacks=[stop_early])"
   ]
  },
  {
   "cell_type": "code",
   "execution_count": 42,
   "id": "d204ef58",
   "metadata": {},
   "outputs": [
    {
     "data": {
      "image/png": "[encoded data removed]",
      "text/plain": [
       "<Figure size 1332x540 with 2 Axes>"
      ]
     },
     "metadata": {
      "needs_background": "light"
     },
     "output_type": "display_data"
    }
   ],
   "source": [
    "def show_history(story):\n",
    "    fig, (ax1, ax2) = plt.subplots(1, 2)\n",
    "    fig.set_size_inches(18.5, 7.5)\n",
    "    ax1.plot(story.history['accuracy'])\n",
    "    ax1.plot(story.history['val_accuracy'])\n",
    "    ax1.set(xlabel='epoch', ylabel='accuracy')\n",
    "    ax1.legend(['train_accuracy', 'test_accuracy'], loc='best')\n",
    "    ax1.set_title('Accuracy evolution during NN training')\n",
    "    \n",
    "    ax2.plot(story.history['loss'])\n",
    "    ax2.plot(story.history['val_loss'])\n",
    "    ax2.set(xlabel='epoch', ylabel='loss')\n",
    "    ax2.legend(['train_loss', 'test_loss'], loc='best')\n",
    "    ax2.set_title('Loss evolution during NN training')\n",
    "    plt.show()\n",
    "\n",
    "show_history(story)"
   ]
  },
  {
   "cell_type": "code",
   "execution_count": 43,
   "id": "6e957afd",
   "metadata": {},
   "outputs": [
    {
     "name": "stdout",
     "output_type": "stream",
     "text": [
      "37/37 [==============================] - 0s 2ms/step\n"
     ]
    }
   ],
   "source": [
    "#forecast\n",
    "\n",
    "prob_nn = model.predict(X_test)\n",
    "Y_pred_nn = (prob_nn>= 0.5)"
   ]
  },
  {
   "cell_type": "code",
   "execution_count": 44,
   "id": "b80ba6ab",
   "metadata": {},
   "outputs": [
    {
     "name": "stdout",
     "output_type": "stream",
     "text": [
      "Accuracy: 88.73%\n",
      "--------------------------------------------------------------------------------\n",
      "Evaluation\n",
      "\n",
      "              precision    recall  f1-score   support\n",
      "\n",
      "           0     0.8866    0.9848    0.9331       921\n",
      "           1     0.8931    0.5021    0.6429       233\n",
      "\n",
      "    accuracy                         0.8873      1154\n",
      "   macro avg     0.8899    0.7435    0.7880      1154\n",
      "weighted avg     0.8879    0.8873    0.8745      1154\n",
      "\n"
     ]
    }
   ],
   "source": [
    "from sklearn.metrics import accuracy_score,  classification_report, f1_score #confusion_matrix,\n",
    "print(\"Accuracy: {0:.2f}%\".format(accuracy_score(Y_test, Y_pred_nn)*100))\n",
    "print(\"-\"*80)\n",
    "print(\"Evaluation\\n\")\n",
    "print(classification_report(Y_test, Y_pred_nn, digits=4))"
   ]
  },
  {
   "cell_type": "markdown",
   "id": "d98a670b",
   "metadata": {
    "id": "wMv90Q2gvaD4"
   },
   "source": [
    "## 4. Predicting Loan Defaults Using Logistic Regression"
   ]
  },
  {
   "cell_type": "code",
   "execution_count": 45,
   "id": "ih5pcLco_3s6",
   "metadata": {
    "id": "ih5pcLco_3s6"
   },
   "outputs": [],
   "source": [
    "from sklearn.linear_model import LogisticRegression\n",
    "from sklearn.model_selection import GridSearchCV"
   ]
  },
  {
   "cell_type": "code",
   "execution_count": 46,
   "id": "97wsLi2X_vei",
   "metadata": {
    "colab": {
     "base_uri": "https://localhost:8080/"
    },
    "id": "97wsLi2X_vei",
    "outputId": "28b285c9-a4f7-4284-a87c-454226f8a9cc"
   },
   "outputs": [
    {
     "data": {
      "text/plain": [
       "GridSearchCV(cv=5,\n",
       "             estimator=LogisticRegression(max_iter=5000, penalty='l1',\n",
       "                                          solver='liblinear'),\n",
       "             n_jobs=-1, param_grid=[{'C': [0.3, 0.5, 0.6, 0.7, 1]}],\n",
       "             scoring='f1')"
      ]
     },
     "execution_count": 46,
     "metadata": {},
     "output_type": "execute_result"
    }
   ],
   "source": [
    "param_grid_search = [{\"C\":[0.3,0.5,0.6,0.7,1]}] \n",
    "model2 = GridSearchCV(cv=5,\n",
    "             estimator=LogisticRegression(max_iter=5000, penalty='l1',solver='liblinear'),\n",
    "             n_jobs=-1, param_grid=[{'C': [0.3, 0.5, 0.6, 0.7, 1]}],\n",
    "             scoring='f1')\n",
    "model2.fit(X_train, Y_train)"
   ]
  },
  {
   "cell_type": "code",
   "execution_count": 47,
   "id": "d39872d0",
   "metadata": {},
   "outputs": [
    {
     "name": "stdout",
     "output_type": "stream",
     "text": [
      "The best hyperparmeter is {'C': 0.6}\n"
     ]
    }
   ],
   "source": [
    "print(\"The best hyperparmeter is\",model2.best_params_)"
   ]
  },
  {
   "cell_type": "code",
   "execution_count": 48,
   "id": "bzLeqvIBAgkS",
   "metadata": {
    "id": "bzLeqvIBAgkS"
   },
   "outputs": [],
   "source": [
    "prob_logit = model2.predict_proba(X_test)[:,1]\n",
    "Y_pred_logit = model2.predict(X_test)"
   ]
  },
  {
   "cell_type": "code",
   "execution_count": 49,
   "id": "kf07RzeNvaD7",
   "metadata": {
    "colab": {
     "base_uri": "https://localhost:8080/"
    },
    "id": "kf07RzeNvaD7",
    "outputId": "6a82eab7-6751-49db-c90c-aa55f5df8a82"
   },
   "outputs": [
    {
     "name": "stdout",
     "output_type": "stream",
     "text": [
      "Accuracy: 83.88%\n",
      "--------------------------------------------------------------------------------\n",
      "Evaluation\n",
      "\n",
      "              precision    recall  f1-score   support\n",
      "\n",
      "           0     0.8503    0.9685    0.9056       921\n",
      "           1     0.7238    0.3262    0.4497       233\n",
      "\n",
      "    accuracy                         0.8388      1154\n",
      "   macro avg     0.7871    0.6473    0.6776      1154\n",
      "weighted avg     0.8248    0.8388    0.8135      1154\n",
      "\n"
     ]
    }
   ],
   "source": [
    "print(\"Accuracy: {0:.2f}%\".format(accuracy_score(Y_test, Y_pred_logit)*100))\n",
    "print(\"-\"*80)\n",
    "print(\"Evaluation\\n\")\n",
    "print(classification_report(Y_test, Y_pred_logit, digits=4))"
   ]
  },
  {
   "cell_type": "markdown",
   "id": "ae1b80f4",
   "metadata": {
    "id": "RZvjVUvtvaD7"
   },
   "source": [
    "## 5. Predicting Loan Defaults with Random Forest"
   ]
  },
  {
   "cell_type": "code",
   "execution_count": 50,
   "id": "09iVsWygvaD7",
   "metadata": {
    "id": "09iVsWygvaD7"
   },
   "outputs": [],
   "source": [
    "from sklearn.ensemble import RandomForestClassifier\n",
    "model3 = RandomForestClassifier(n_estimators=100)\n",
    "model3.fit(X_train, Y_train)\n",
    "prob_random = model3.predict_proba(X_test)[:,1]\n",
    "Y_pred_random = model3.predict(X_test)"
   ]
  },
  {
   "cell_type": "code",
   "execution_count": 51,
   "id": "BaVWDlShvaD7",
   "metadata": {
    "colab": {
     "base_uri": "https://localhost:8080/"
    },
    "id": "BaVWDlShvaD7",
    "outputId": "e804a421-4660-4a3b-e47a-84d398a55067"
   },
   "outputs": [
    {
     "name": "stdout",
     "output_type": "stream",
     "text": [
      "Accuracy: 91.85%\n",
      "--------------------------------------------------------------------------------\n",
      "Evaluation\n",
      "\n",
      "              precision    recall  f1-score   support\n",
      "\n",
      "           0     0.9276    0.9739    0.9502       921\n",
      "           1     0.8717    0.6996    0.7762       233\n",
      "\n",
      "    accuracy                         0.9185      1154\n",
      "   macro avg     0.8996    0.8368    0.8632      1154\n",
      "weighted avg     0.9163    0.9185    0.9151      1154\n",
      "\n"
     ]
    }
   ],
   "source": [
    "print(\"Accuracy: {0:.2f}%\".format(accuracy_score(Y_test, Y_pred_random)*100))\n",
    "print(\"-\"*80)\n",
    "print(\"Evaluation\\n\")\n",
    "print(classification_report(Y_test, Y_pred_random, digits=4))"
   ]
  },
  {
   "cell_type": "markdown",
   "id": "4a10f201",
   "metadata": {},
   "source": [
    "## 6. ROC Kurve"
   ]
  },
  {
   "cell_type": "code",
   "execution_count": 52,
   "id": "italic-ridge",
   "metadata": {
    "colab": {
     "base_uri": "https://localhost:8080/",
     "height": 513
    },
    "id": "cO1e64BUGT3-",
    "outputId": "df24e6d2-8c43-41e9-bf97-0eba94608249"
   },
   "outputs": [
    {
     "data": {
      "image/png": "[encoded data removed]",
      "text/plain": [
       "<Figure size 432x288 with 1 Axes>"
      ]
     },
     "metadata": {
      "needs_background": "light"
     },
     "output_type": "display_data"
    }
   ],
   "source": [
    "# ROC \n",
    "from sklearn.metrics import roc_curve\n",
    "fpr, tpr, _ = roc_curve(Y_test, prob_nn)\n",
    "plt.plot(fpr, tpr, lw=1,label='Neural network')\n",
    "fpr, tpr, _ = roc_curve(Y_test, prob_logit)\n",
    "plt.plot(fpr, tpr, lw=1,label='Logistic')\n",
    "fpr, tpr, _ = roc_curve(Y_test, prob_random)\n",
    "plt.plot(fpr, tpr, lw=1,label='Random forest')\n",
    "plt.xlabel('False positive rate') \n",
    "plt.ylabel('True positive rate')\n",
    "plt.legend(loc=\"best\")\n",
    "plt.title(\"ROC\")\n",
    "plt.show()"
   ]
  }
 ],
 "metadata": {
  "accelerator": "GPU",
  "colab": {
   "name": "Bachelorarbeit_final2.ipynb",
   "provenance": []
  },
  "gpuClass": "standard",
  "kernelspec": {
   "display_name": "Python 3",
   "language": "python",
   "name": "python3"
  },
  "language_info": {
   "codemirror_mode": {
    "name": "ipython",
    "version": 3
   },
   "file_extension": ".py",
   "mimetype": "text/x-python",
   "name": "python",
   "nbconvert_exporter": "python",
   "pygments_lexer": "ipython3",
   "version": "3.9.2"
  }
 },
 "nbformat": 4,
 "nbformat_minor": 5
}
